{
 "cells": [
  {
   "cell_type": "markdown",
   "id": "49e51ba4",
   "metadata": {
    "id": "U_7Uk6rIVWHM",
    "papermill": {
     "duration": 0.017215,
     "end_time": "2022-07-07T13:50:37.919972",
     "exception": false,
     "start_time": "2022-07-07T13:50:37.902757",
     "status": "completed"
    },
    "tags": []
   },
   "source": [
    "## EDA, Pre processing and Visualization of Zomato Bangalore Restaurants Dataset"
   ]
  },
  {
   "cell_type": "code",
   "execution_count": 1,
   "id": "7427be8d",
   "metadata": {
    "execution": {
     "iopub.execute_input": "2022-07-07T13:50:37.960377Z",
     "iopub.status.busy": "2022-07-07T13:50:37.959911Z",
     "iopub.status.idle": "2022-07-07T13:50:39.051385Z",
     "shell.execute_reply": "2022-07-07T13:50:39.049877Z"
    },
    "id": "1324dce0",
    "papermill": {
     "duration": 1.114462,
     "end_time": "2022-07-07T13:50:39.054521",
     "exception": false,
     "start_time": "2022-07-07T13:50:37.940059",
     "status": "completed"
    },
    "tags": []
   },
   "outputs": [
    {
     "name": "stdout",
     "output_type": "stream",
     "text": [
      "/kaggle/input/zomato-bangalore-restaurants/zomato.csv\n"
     ]
    }
   ],
   "source": [
    "# Loading libraries\n",
    "\n",
    "import pandas as pd\n",
    "import numpy as np\n",
    "import matplotlib.pyplot as plt\n",
    "import seaborn as sns\n",
    "import warnings\n",
    "warnings.filterwarnings('ignore')\n",
    "\n",
    "import os\n",
    "for dirname, _, filenames in os.walk('/kaggle/input'):\n",
    "    for filename in filenames:\n",
    "        print(os.path.join(dirname, filename))"
   ]
  },
  {
   "cell_type": "code",
   "execution_count": 2,
   "id": "41cfbbb8",
   "metadata": {
    "execution": {
     "iopub.execute_input": "2022-07-07T13:50:39.089230Z",
     "iopub.status.busy": "2022-07-07T13:50:39.088838Z",
     "iopub.status.idle": "2022-07-07T13:50:51.665513Z",
     "shell.execute_reply": "2022-07-07T13:50:51.664238Z"
    },
    "id": "45da6b04",
    "papermill": {
     "duration": 12.597502,
     "end_time": "2022-07-07T13:50:51.668355",
     "exception": false,
     "start_time": "2022-07-07T13:50:39.070853",
     "status": "completed"
    },
    "tags": []
   },
   "outputs": [
    {
     "data": {
      "text/html": [
       "<div>\n",
       "<style scoped>\n",
       "    .dataframe tbody tr th:only-of-type {\n",
       "        vertical-align: middle;\n",
       "    }\n",
       "\n",
       "    .dataframe tbody tr th {\n",
       "        vertical-align: top;\n",
       "    }\n",
       "\n",
       "    .dataframe thead th {\n",
       "        text-align: right;\n",
       "    }\n",
       "</style>\n",
       "<table border=\"1\" class=\"dataframe\">\n",
       "  <thead>\n",
       "    <tr style=\"text-align: right;\">\n",
       "      <th></th>\n",
       "      <th>url</th>\n",
       "      <th>address</th>\n",
       "      <th>name</th>\n",
       "      <th>online_order</th>\n",
       "      <th>book_table</th>\n",
       "      <th>rate</th>\n",
       "      <th>votes</th>\n",
       "      <th>phone</th>\n",
       "      <th>location</th>\n",
       "      <th>rest_type</th>\n",
       "      <th>dish_liked</th>\n",
       "      <th>cuisines</th>\n",
       "      <th>approx_cost(for two people)</th>\n",
       "      <th>reviews_list</th>\n",
       "      <th>menu_item</th>\n",
       "      <th>listed_in(type)</th>\n",
       "      <th>listed_in(city)</th>\n",
       "    </tr>\n",
       "  </thead>\n",
       "  <tbody>\n",
       "    <tr>\n",
       "      <th>0</th>\n",
       "      <td>https://www.zomato.com/bangalore/jalsa-banasha...</td>\n",
       "      <td>942, 21st Main Road, 2nd Stage, Banashankari, ...</td>\n",
       "      <td>Jalsa</td>\n",
       "      <td>Yes</td>\n",
       "      <td>Yes</td>\n",
       "      <td>4.1/5</td>\n",
       "      <td>775</td>\n",
       "      <td>080 42297555\\r\\n+91 9743772233</td>\n",
       "      <td>Banashankari</td>\n",
       "      <td>Casual Dining</td>\n",
       "      <td>Pasta, Lunch Buffet, Masala Papad, Paneer Laja...</td>\n",
       "      <td>North Indian, Mughlai, Chinese</td>\n",
       "      <td>800</td>\n",
       "      <td>[('Rated 4.0', 'RATED\\n  A beautiful place to ...</td>\n",
       "      <td>[]</td>\n",
       "      <td>Buffet</td>\n",
       "      <td>Banashankari</td>\n",
       "    </tr>\n",
       "    <tr>\n",
       "      <th>1</th>\n",
       "      <td>https://www.zomato.com/bangalore/spice-elephan...</td>\n",
       "      <td>2nd Floor, 80 Feet Road, Near Big Bazaar, 6th ...</td>\n",
       "      <td>Spice Elephant</td>\n",
       "      <td>Yes</td>\n",
       "      <td>No</td>\n",
       "      <td>4.1/5</td>\n",
       "      <td>787</td>\n",
       "      <td>080 41714161</td>\n",
       "      <td>Banashankari</td>\n",
       "      <td>Casual Dining</td>\n",
       "      <td>Momos, Lunch Buffet, Chocolate Nirvana, Thai G...</td>\n",
       "      <td>Chinese, North Indian, Thai</td>\n",
       "      <td>800</td>\n",
       "      <td>[('Rated 4.0', 'RATED\\n  Had been here for din...</td>\n",
       "      <td>[]</td>\n",
       "      <td>Buffet</td>\n",
       "      <td>Banashankari</td>\n",
       "    </tr>\n",
       "    <tr>\n",
       "      <th>2</th>\n",
       "      <td>https://www.zomato.com/SanchurroBangalore?cont...</td>\n",
       "      <td>1112, Next to KIMS Medical College, 17th Cross...</td>\n",
       "      <td>San Churro Cafe</td>\n",
       "      <td>Yes</td>\n",
       "      <td>No</td>\n",
       "      <td>3.8/5</td>\n",
       "      <td>918</td>\n",
       "      <td>+91 9663487993</td>\n",
       "      <td>Banashankari</td>\n",
       "      <td>Cafe, Casual Dining</td>\n",
       "      <td>Churros, Cannelloni, Minestrone Soup, Hot Choc...</td>\n",
       "      <td>Cafe, Mexican, Italian</td>\n",
       "      <td>800</td>\n",
       "      <td>[('Rated 3.0', \"RATED\\n  Ambience is not that ...</td>\n",
       "      <td>[]</td>\n",
       "      <td>Buffet</td>\n",
       "      <td>Banashankari</td>\n",
       "    </tr>\n",
       "    <tr>\n",
       "      <th>3</th>\n",
       "      <td>https://www.zomato.com/bangalore/addhuri-udupi...</td>\n",
       "      <td>1st Floor, Annakuteera, 3rd Stage, Banashankar...</td>\n",
       "      <td>Addhuri Udupi Bhojana</td>\n",
       "      <td>No</td>\n",
       "      <td>No</td>\n",
       "      <td>3.7/5</td>\n",
       "      <td>88</td>\n",
       "      <td>+91 9620009302</td>\n",
       "      <td>Banashankari</td>\n",
       "      <td>Quick Bites</td>\n",
       "      <td>Masala Dosa</td>\n",
       "      <td>South Indian, North Indian</td>\n",
       "      <td>300</td>\n",
       "      <td>[('Rated 4.0', \"RATED\\n  Great food and proper...</td>\n",
       "      <td>[]</td>\n",
       "      <td>Buffet</td>\n",
       "      <td>Banashankari</td>\n",
       "    </tr>\n",
       "    <tr>\n",
       "      <th>4</th>\n",
       "      <td>https://www.zomato.com/bangalore/grand-village...</td>\n",
       "      <td>10, 3rd Floor, Lakshmi Associates, Gandhi Baza...</td>\n",
       "      <td>Grand Village</td>\n",
       "      <td>No</td>\n",
       "      <td>No</td>\n",
       "      <td>3.8/5</td>\n",
       "      <td>166</td>\n",
       "      <td>+91 8026612447\\r\\n+91 9901210005</td>\n",
       "      <td>Basavanagudi</td>\n",
       "      <td>Casual Dining</td>\n",
       "      <td>Panipuri, Gol Gappe</td>\n",
       "      <td>North Indian, Rajasthani</td>\n",
       "      <td>600</td>\n",
       "      <td>[('Rated 4.0', 'RATED\\n  Very good restaurant ...</td>\n",
       "      <td>[]</td>\n",
       "      <td>Buffet</td>\n",
       "      <td>Banashankari</td>\n",
       "    </tr>\n",
       "  </tbody>\n",
       "</table>\n",
       "</div>"
      ],
      "text/plain": [
       "                                                 url  \\\n",
       "0  https://www.zomato.com/bangalore/jalsa-banasha...   \n",
       "1  https://www.zomato.com/bangalore/spice-elephan...   \n",
       "2  https://www.zomato.com/SanchurroBangalore?cont...   \n",
       "3  https://www.zomato.com/bangalore/addhuri-udupi...   \n",
       "4  https://www.zomato.com/bangalore/grand-village...   \n",
       "\n",
       "                                             address                   name  \\\n",
       "0  942, 21st Main Road, 2nd Stage, Banashankari, ...                  Jalsa   \n",
       "1  2nd Floor, 80 Feet Road, Near Big Bazaar, 6th ...         Spice Elephant   \n",
       "2  1112, Next to KIMS Medical College, 17th Cross...        San Churro Cafe   \n",
       "3  1st Floor, Annakuteera, 3rd Stage, Banashankar...  Addhuri Udupi Bhojana   \n",
       "4  10, 3rd Floor, Lakshmi Associates, Gandhi Baza...          Grand Village   \n",
       "\n",
       "  online_order book_table   rate  votes                             phone  \\\n",
       "0          Yes        Yes  4.1/5    775    080 42297555\\r\\n+91 9743772233   \n",
       "1          Yes         No  4.1/5    787                      080 41714161   \n",
       "2          Yes         No  3.8/5    918                    +91 9663487993   \n",
       "3           No         No  3.7/5     88                    +91 9620009302   \n",
       "4           No         No  3.8/5    166  +91 8026612447\\r\\n+91 9901210005   \n",
       "\n",
       "       location            rest_type  \\\n",
       "0  Banashankari        Casual Dining   \n",
       "1  Banashankari        Casual Dining   \n",
       "2  Banashankari  Cafe, Casual Dining   \n",
       "3  Banashankari          Quick Bites   \n",
       "4  Basavanagudi        Casual Dining   \n",
       "\n",
       "                                          dish_liked  \\\n",
       "0  Pasta, Lunch Buffet, Masala Papad, Paneer Laja...   \n",
       "1  Momos, Lunch Buffet, Chocolate Nirvana, Thai G...   \n",
       "2  Churros, Cannelloni, Minestrone Soup, Hot Choc...   \n",
       "3                                        Masala Dosa   \n",
       "4                                Panipuri, Gol Gappe   \n",
       "\n",
       "                         cuisines approx_cost(for two people)  \\\n",
       "0  North Indian, Mughlai, Chinese                         800   \n",
       "1     Chinese, North Indian, Thai                         800   \n",
       "2          Cafe, Mexican, Italian                         800   \n",
       "3      South Indian, North Indian                         300   \n",
       "4        North Indian, Rajasthani                         600   \n",
       "\n",
       "                                        reviews_list menu_item  \\\n",
       "0  [('Rated 4.0', 'RATED\\n  A beautiful place to ...        []   \n",
       "1  [('Rated 4.0', 'RATED\\n  Had been here for din...        []   \n",
       "2  [('Rated 3.0', \"RATED\\n  Ambience is not that ...        []   \n",
       "3  [('Rated 4.0', \"RATED\\n  Great food and proper...        []   \n",
       "4  [('Rated 4.0', 'RATED\\n  Very good restaurant ...        []   \n",
       "\n",
       "  listed_in(type) listed_in(city)  \n",
       "0          Buffet    Banashankari  \n",
       "1          Buffet    Banashankari  \n",
       "2          Buffet    Banashankari  \n",
       "3          Buffet    Banashankari  \n",
       "4          Buffet    Banashankari  "
      ]
     },
     "execution_count": 2,
     "metadata": {},
     "output_type": "execute_result"
    }
   ],
   "source": [
    "# Loading the dataset\n",
    "\n",
    "df = pd.read_csv('/kaggle/input/zomato-bangalore-restaurants/zomato.csv')\n",
    "df.head()"
   ]
  },
  {
   "cell_type": "markdown",
   "id": "94f17373",
   "metadata": {
    "id": "EiSCVOwoEGWy",
    "papermill": {
     "duration": 0.016733,
     "end_time": "2022-07-07T13:50:51.701545",
     "exception": false,
     "start_time": "2022-07-07T13:50:51.684812",
     "status": "completed"
    },
    "tags": []
   },
   "source": [
    "## Exploratory Data Analysis (EDA) to understand the dataset"
   ]
  },
  {
   "cell_type": "code",
   "execution_count": 3,
   "id": "d14199a0",
   "metadata": {
    "execution": {
     "iopub.execute_input": "2022-07-07T13:50:51.736213Z",
     "iopub.status.busy": "2022-07-07T13:50:51.735831Z",
     "iopub.status.idle": "2022-07-07T13:50:51.743757Z",
     "shell.execute_reply": "2022-07-07T13:50:51.742580Z"
    },
    "id": "VMcpiLdRPjK1",
    "outputId": "3e65245d-5a5d-4703-b6f7-a3df203575ba",
    "papermill": {
     "duration": 0.028326,
     "end_time": "2022-07-07T13:50:51.746196",
     "exception": false,
     "start_time": "2022-07-07T13:50:51.717870",
     "status": "completed"
    },
    "tags": []
   },
   "outputs": [
    {
     "data": {
      "text/plain": [
       "(51717, 17)"
      ]
     },
     "execution_count": 3,
     "metadata": {},
     "output_type": "execute_result"
    }
   ],
   "source": [
    "df.shape"
   ]
  },
  {
   "cell_type": "code",
   "execution_count": 4,
   "id": "332d001c",
   "metadata": {
    "execution": {
     "iopub.execute_input": "2022-07-07T13:50:51.780478Z",
     "iopub.status.busy": "2022-07-07T13:50:51.780099Z",
     "iopub.status.idle": "2022-07-07T13:50:51.787913Z",
     "shell.execute_reply": "2022-07-07T13:50:51.786637Z"
    },
    "id": "Tx651YfOtwj1",
    "outputId": "e698bcf7-f3c6-49c4-f9c0-999a6082feb4",
    "papermill": {
     "duration": 0.027981,
     "end_time": "2022-07-07T13:50:51.790221",
     "exception": false,
     "start_time": "2022-07-07T13:50:51.762240",
     "status": "completed"
    },
    "tags": []
   },
   "outputs": [
    {
     "data": {
      "text/plain": [
       "Index(['url', 'address', 'name', 'online_order', 'book_table', 'rate', 'votes',\n",
       "       'phone', 'location', 'rest_type', 'dish_liked', 'cuisines',\n",
       "       'approx_cost(for two people)', 'reviews_list', 'menu_item',\n",
       "       'listed_in(type)', 'listed_in(city)'],\n",
       "      dtype='object')"
      ]
     },
     "execution_count": 4,
     "metadata": {},
     "output_type": "execute_result"
    }
   ],
   "source": [
    "df.columns"
   ]
  },
  {
   "cell_type": "markdown",
   "id": "971c1340",
   "metadata": {
    "papermill": {
     "duration": 0.015737,
     "end_time": "2022-07-07T13:50:51.822329",
     "exception": false,
     "start_time": "2022-07-07T13:50:51.806592",
     "status": "completed"
    },
    "tags": []
   },
   "source": [
    "## Pre processing"
   ]
  },
  {
   "cell_type": "markdown",
   "id": "dc5b3160",
   "metadata": {
    "id": "QLcOlRqDuEZW",
    "papermill": {
     "duration": 0.015984,
     "end_time": "2022-07-07T13:50:51.854386",
     "exception": false,
     "start_time": "2022-07-07T13:50:51.838402",
     "status": "completed"
    },
    "tags": []
   },
   "source": [
    "Drop unnecessary columns"
   ]
  },
  {
   "cell_type": "code",
   "execution_count": 5,
   "id": "c6098556",
   "metadata": {
    "execution": {
     "iopub.execute_input": "2022-07-07T13:50:51.888765Z",
     "iopub.status.busy": "2022-07-07T13:50:51.888056Z",
     "iopub.status.idle": "2022-07-07T13:50:51.914720Z",
     "shell.execute_reply": "2022-07-07T13:50:51.913536Z"
    },
    "id": "0e84tXrNPn7P",
    "outputId": "dc980da7-10df-46fb-924a-8fbce130535d",
    "papermill": {
     "duration": 0.046255,
     "end_time": "2022-07-07T13:50:51.916963",
     "exception": false,
     "start_time": "2022-07-07T13:50:51.870708",
     "status": "completed"
    },
    "tags": []
   },
   "outputs": [
    {
     "data": {
      "text/html": [
       "<div>\n",
       "<style scoped>\n",
       "    .dataframe tbody tr th:only-of-type {\n",
       "        vertical-align: middle;\n",
       "    }\n",
       "\n",
       "    .dataframe tbody tr th {\n",
       "        vertical-align: top;\n",
       "    }\n",
       "\n",
       "    .dataframe thead th {\n",
       "        text-align: right;\n",
       "    }\n",
       "</style>\n",
       "<table border=\"1\" class=\"dataframe\">\n",
       "  <thead>\n",
       "    <tr style=\"text-align: right;\">\n",
       "      <th></th>\n",
       "      <th>name</th>\n",
       "      <th>online_order</th>\n",
       "      <th>book_table</th>\n",
       "      <th>rate</th>\n",
       "      <th>votes</th>\n",
       "      <th>location</th>\n",
       "      <th>rest_type</th>\n",
       "      <th>cuisines</th>\n",
       "      <th>approx_cost(for two people)</th>\n",
       "      <th>listed_in(type)</th>\n",
       "    </tr>\n",
       "  </thead>\n",
       "  <tbody>\n",
       "    <tr>\n",
       "      <th>0</th>\n",
       "      <td>Jalsa</td>\n",
       "      <td>Yes</td>\n",
       "      <td>Yes</td>\n",
       "      <td>4.1/5</td>\n",
       "      <td>775</td>\n",
       "      <td>Banashankari</td>\n",
       "      <td>Casual Dining</td>\n",
       "      <td>North Indian, Mughlai, Chinese</td>\n",
       "      <td>800</td>\n",
       "      <td>Buffet</td>\n",
       "    </tr>\n",
       "    <tr>\n",
       "      <th>1</th>\n",
       "      <td>Spice Elephant</td>\n",
       "      <td>Yes</td>\n",
       "      <td>No</td>\n",
       "      <td>4.1/5</td>\n",
       "      <td>787</td>\n",
       "      <td>Banashankari</td>\n",
       "      <td>Casual Dining</td>\n",
       "      <td>Chinese, North Indian, Thai</td>\n",
       "      <td>800</td>\n",
       "      <td>Buffet</td>\n",
       "    </tr>\n",
       "    <tr>\n",
       "      <th>2</th>\n",
       "      <td>San Churro Cafe</td>\n",
       "      <td>Yes</td>\n",
       "      <td>No</td>\n",
       "      <td>3.8/5</td>\n",
       "      <td>918</td>\n",
       "      <td>Banashankari</td>\n",
       "      <td>Cafe, Casual Dining</td>\n",
       "      <td>Cafe, Mexican, Italian</td>\n",
       "      <td>800</td>\n",
       "      <td>Buffet</td>\n",
       "    </tr>\n",
       "    <tr>\n",
       "      <th>3</th>\n",
       "      <td>Addhuri Udupi Bhojana</td>\n",
       "      <td>No</td>\n",
       "      <td>No</td>\n",
       "      <td>3.7/5</td>\n",
       "      <td>88</td>\n",
       "      <td>Banashankari</td>\n",
       "      <td>Quick Bites</td>\n",
       "      <td>South Indian, North Indian</td>\n",
       "      <td>300</td>\n",
       "      <td>Buffet</td>\n",
       "    </tr>\n",
       "    <tr>\n",
       "      <th>4</th>\n",
       "      <td>Grand Village</td>\n",
       "      <td>No</td>\n",
       "      <td>No</td>\n",
       "      <td>3.8/5</td>\n",
       "      <td>166</td>\n",
       "      <td>Basavanagudi</td>\n",
       "      <td>Casual Dining</td>\n",
       "      <td>North Indian, Rajasthani</td>\n",
       "      <td>600</td>\n",
       "      <td>Buffet</td>\n",
       "    </tr>\n",
       "  </tbody>\n",
       "</table>\n",
       "</div>"
      ],
      "text/plain": [
       "                    name online_order book_table   rate  votes      location  \\\n",
       "0                  Jalsa          Yes        Yes  4.1/5    775  Banashankari   \n",
       "1         Spice Elephant          Yes         No  4.1/5    787  Banashankari   \n",
       "2        San Churro Cafe          Yes         No  3.8/5    918  Banashankari   \n",
       "3  Addhuri Udupi Bhojana           No         No  3.7/5     88  Banashankari   \n",
       "4          Grand Village           No         No  3.8/5    166  Basavanagudi   \n",
       "\n",
       "             rest_type                        cuisines  \\\n",
       "0        Casual Dining  North Indian, Mughlai, Chinese   \n",
       "1        Casual Dining     Chinese, North Indian, Thai   \n",
       "2  Cafe, Casual Dining          Cafe, Mexican, Italian   \n",
       "3          Quick Bites      South Indian, North Indian   \n",
       "4        Casual Dining        North Indian, Rajasthani   \n",
       "\n",
       "  approx_cost(for two people) listed_in(type)  \n",
       "0                         800          Buffet  \n",
       "1                         800          Buffet  \n",
       "2                         800          Buffet  \n",
       "3                         300          Buffet  \n",
       "4                         600          Buffet  "
      ]
     },
     "execution_count": 5,
     "metadata": {},
     "output_type": "execute_result"
    }
   ],
   "source": [
    "df = df.drop(['url', 'address', 'phone', 'menu_item', 'dish_liked', 'reviews_list', 'listed_in(city)' ], axis= 1)\n",
    "df.head()"
   ]
  },
  {
   "cell_type": "code",
   "execution_count": 6,
   "id": "e86d839d",
   "metadata": {
    "execution": {
     "iopub.execute_input": "2022-07-07T13:50:51.952840Z",
     "iopub.status.busy": "2022-07-07T13:50:51.951744Z",
     "iopub.status.idle": "2022-07-07T13:50:52.014852Z",
     "shell.execute_reply": "2022-07-07T13:50:52.012561Z"
    },
    "id": "d-VuKCvuQfMZ",
    "outputId": "328b78a9-4e02-41c4-af9d-41e57b17d80b",
    "papermill": {
     "duration": 0.084635,
     "end_time": "2022-07-07T13:50:52.018461",
     "exception": false,
     "start_time": "2022-07-07T13:50:51.933826",
     "status": "completed"
    },
    "tags": []
   },
   "outputs": [
    {
     "name": "stdout",
     "output_type": "stream",
     "text": [
      "<class 'pandas.core.frame.DataFrame'>\n",
      "RangeIndex: 51717 entries, 0 to 51716\n",
      "Data columns (total 10 columns):\n",
      " #   Column                       Non-Null Count  Dtype \n",
      "---  ------                       --------------  ----- \n",
      " 0   name                         51717 non-null  object\n",
      " 1   online_order                 51717 non-null  object\n",
      " 2   book_table                   51717 non-null  object\n",
      " 3   rate                         43942 non-null  object\n",
      " 4   votes                        51717 non-null  int64 \n",
      " 5   location                     51696 non-null  object\n",
      " 6   rest_type                    51490 non-null  object\n",
      " 7   cuisines                     51672 non-null  object\n",
      " 8   approx_cost(for two people)  51371 non-null  object\n",
      " 9   listed_in(type)              51717 non-null  object\n",
      "dtypes: int64(1), object(9)\n",
      "memory usage: 3.9+ MB\n"
     ]
    }
   ],
   "source": [
    "df.info()"
   ]
  },
  {
   "cell_type": "markdown",
   "id": "e792d792",
   "metadata": {
    "id": "EhHzQJK4uRuZ",
    "papermill": {
     "duration": 0.016529,
     "end_time": "2022-07-07T13:50:52.051931",
     "exception": false,
     "start_time": "2022-07-07T13:50:52.035402",
     "status": "completed"
    },
    "tags": []
   },
   "source": [
    "Check and drop duplicates"
   ]
  },
  {
   "cell_type": "code",
   "execution_count": 7,
   "id": "7c20e1c0",
   "metadata": {
    "execution": {
     "iopub.execute_input": "2022-07-07T13:50:52.086827Z",
     "iopub.status.busy": "2022-07-07T13:50:52.086380Z",
     "iopub.status.idle": "2022-07-07T13:50:52.150054Z",
     "shell.execute_reply": "2022-07-07T13:50:52.148965Z"
    },
    "id": "CC_uroXZQmpR",
    "outputId": "ad1d8e59-ed06-4985-be2a-38571b567aa8",
    "papermill": {
     "duration": 0.084127,
     "end_time": "2022-07-07T13:50:52.152540",
     "exception": false,
     "start_time": "2022-07-07T13:50:52.068413",
     "status": "completed"
    },
    "tags": []
   },
   "outputs": [
    {
     "data": {
      "text/plain": [
       "16706"
      ]
     },
     "execution_count": 7,
     "metadata": {},
     "output_type": "execute_result"
    }
   ],
   "source": [
    "df.duplicated().sum()"
   ]
  },
  {
   "cell_type": "code",
   "execution_count": 8,
   "id": "2f219540",
   "metadata": {
    "execution": {
     "iopub.execute_input": "2022-07-07T13:50:52.189146Z",
     "iopub.status.busy": "2022-07-07T13:50:52.187951Z",
     "iopub.status.idle": "2022-07-07T13:50:52.256166Z",
     "shell.execute_reply": "2022-07-07T13:50:52.254865Z"
    },
    "id": "yacnTnqQQ-4E",
    "outputId": "c06a15de-c829-46f8-f0a3-ff5bb73bff13",
    "papermill": {
     "duration": 0.089175,
     "end_time": "2022-07-07T13:50:52.258651",
     "exception": false,
     "start_time": "2022-07-07T13:50:52.169476",
     "status": "completed"
    },
    "tags": []
   },
   "outputs": [
    {
     "data": {
      "text/plain": [
       "(35011, 10)"
      ]
     },
     "execution_count": 8,
     "metadata": {},
     "output_type": "execute_result"
    }
   ],
   "source": [
    "# there is 16706 duplicated rows\n",
    "\n",
    "df = df.drop_duplicates()\n",
    "df.shape"
   ]
  },
  {
   "cell_type": "markdown",
   "id": "cc5ec925",
   "metadata": {
    "id": "w3ZyKlh-ulnu",
    "papermill": {
     "duration": 0.01692,
     "end_time": "2022-07-07T13:50:52.292677",
     "exception": false,
     "start_time": "2022-07-07T13:50:52.275757",
     "status": "completed"
    },
    "tags": []
   },
   "source": [
    "Rate column"
   ]
  },
  {
   "cell_type": "code",
   "execution_count": 9,
   "id": "807c0690",
   "metadata": {
    "execution": {
     "iopub.execute_input": "2022-07-07T13:50:52.330021Z",
     "iopub.status.busy": "2022-07-07T13:50:52.329185Z",
     "iopub.status.idle": "2022-07-07T13:50:52.344345Z",
     "shell.execute_reply": "2022-07-07T13:50:52.343093Z"
    },
    "id": "-YEbU-XbRIlG",
    "outputId": "c4250369-bb4e-4774-ded0-f05989266320",
    "papermill": {
     "duration": 0.036802,
     "end_time": "2022-07-07T13:50:52.346866",
     "exception": false,
     "start_time": "2022-07-07T13:50:52.310064",
     "status": "completed"
    },
    "tags": []
   },
   "outputs": [
    {
     "data": {
      "text/plain": [
       "NaN       3770\n",
       "3.9/5     1514\n",
       "3.7/5     1376\n",
       "3.8/5     1371\n",
       "3.9 /5    1353\n",
       "          ... \n",
       "2.0 /5       6\n",
       "2.0/5        4\n",
       "2.2 /5       3\n",
       "1.8/5        1\n",
       "1.8 /5       1\n",
       "Name: rate, Length: 65, dtype: int64"
      ]
     },
     "execution_count": 9,
     "metadata": {},
     "output_type": "execute_result"
    }
   ],
   "source": [
    "df['rate'].value_counts(dropna=False)"
   ]
  },
  {
   "cell_type": "code",
   "execution_count": 10,
   "id": "ef92f5b1",
   "metadata": {
    "execution": {
     "iopub.execute_input": "2022-07-07T13:50:52.384291Z",
     "iopub.status.busy": "2022-07-07T13:50:52.383554Z",
     "iopub.status.idle": "2022-07-07T13:50:52.394018Z",
     "shell.execute_reply": "2022-07-07T13:50:52.393104Z"
    },
    "id": "KlCmmOhXSHRp",
    "outputId": "b3325090-8413-4860-e5a7-49fdec51723e",
    "papermill": {
     "duration": 0.031414,
     "end_time": "2022-07-07T13:50:52.396165",
     "exception": false,
     "start_time": "2022-07-07T13:50:52.364751",
     "status": "completed"
    },
    "tags": []
   },
   "outputs": [
    {
     "data": {
      "text/plain": [
       "array(['4.1/5', '3.8/5', '3.7/5', '3.6/5', '4.6/5', '4.0/5', '4.2/5',\n",
       "       '3.9/5', '3.1/5', '3.0/5', '3.2/5', '3.3/5', '2.8/5', '4.4/5',\n",
       "       '4.3/5', 'NEW', '2.9/5', '3.5/5', nan, '2.6/5', '3.8 /5', '3.4/5',\n",
       "       '4.5/5', '2.5/5', '2.7/5', '4.7/5', '2.4/5', '2.2/5', '2.3/5',\n",
       "       '3.4 /5', '-', '3.6 /5', '4.8/5', '3.9 /5', '4.2 /5', '4.0 /5',\n",
       "       '4.1 /5', '3.7 /5', '3.1 /5', '2.9 /5', '3.3 /5', '2.8 /5',\n",
       "       '3.5 /5', '2.7 /5', '2.5 /5', '3.2 /5', '2.6 /5', '4.5 /5',\n",
       "       '4.3 /5', '4.4 /5', '4.9/5', '2.1/5', '2.0/5', '1.8/5', '4.6 /5',\n",
       "       '4.9 /5', '3.0 /5', '4.8 /5', '2.3 /5', '4.7 /5', '2.4 /5',\n",
       "       '2.1 /5', '2.2 /5', '2.0 /5', '1.8 /5'], dtype=object)"
      ]
     },
     "execution_count": 10,
     "metadata": {},
     "output_type": "execute_result"
    }
   ],
   "source": [
    "df['rate'].unique()"
   ]
  },
  {
   "cell_type": "markdown",
   "id": "e36f0b2e",
   "metadata": {
    "id": "Zd4BXug1uxxr",
    "papermill": {
     "duration": 0.016962,
     "end_time": "2022-07-07T13:50:52.430352",
     "exception": false,
     "start_time": "2022-07-07T13:50:52.413390",
     "status": "completed"
    },
    "tags": []
   },
   "source": [
    "Replace 'NEW' and '-' values as nan and remove '/5' from column values and transform the column in to float datetype"
   ]
  },
  {
   "cell_type": "code",
   "execution_count": 11,
   "id": "78bfea21",
   "metadata": {
    "execution": {
     "iopub.execute_input": "2022-07-07T13:50:52.467110Z",
     "iopub.status.busy": "2022-07-07T13:50:52.466335Z",
     "iopub.status.idle": "2022-07-07T13:50:52.477037Z",
     "shell.execute_reply": "2022-07-07T13:50:52.475751Z"
    },
    "id": "GoOtlyeASo4a",
    "outputId": "095cf41e-3e52-4a9e-c96b-702afe9f61cf",
    "papermill": {
     "duration": 0.031928,
     "end_time": "2022-07-07T13:50:52.479606",
     "exception": false,
     "start_time": "2022-07-07T13:50:52.447678",
     "status": "completed"
    },
    "tags": []
   },
   "outputs": [
    {
     "data": {
      "text/plain": [
       "3770"
      ]
     },
     "execution_count": 11,
     "metadata": {},
     "output_type": "execute_result"
    }
   ],
   "source": [
    "df['rate'].isnull().sum()"
   ]
  },
  {
   "cell_type": "code",
   "execution_count": 12,
   "id": "078affd2",
   "metadata": {
    "execution": {
     "iopub.execute_input": "2022-07-07T13:50:52.515930Z",
     "iopub.status.busy": "2022-07-07T13:50:52.515470Z",
     "iopub.status.idle": "2022-07-07T13:50:52.526174Z",
     "shell.execute_reply": "2022-07-07T13:50:52.525298Z"
    },
    "id": "VcKArTxfFL0k",
    "outputId": "96ae75bd-9c6c-48ed-d6be-317f40ff0e22",
    "papermill": {
     "duration": 0.03135,
     "end_time": "2022-07-07T13:50:52.528394",
     "exception": false,
     "start_time": "2022-07-07T13:50:52.497044",
     "status": "completed"
    },
    "tags": []
   },
   "outputs": [
    {
     "data": {
      "text/plain": [
       "array(['4.1/5', '3.8/5', '3.7/5', '3.6/5', '4.6/5', '4.0/5', '4.2/5',\n",
       "       '3.9/5', '3.1/5', '3.0/5', '3.2/5', '3.3/5', '2.8/5', '4.4/5',\n",
       "       '4.3/5', 'NEW', '2.9/5', '3.5/5', nan, '2.6/5', '3.8 /5', '3.4/5',\n",
       "       '4.5/5', '2.5/5', '2.7/5', '4.7/5', '2.4/5', '2.2/5', '2.3/5',\n",
       "       '3.4 /5', '-', '3.6 /5', '4.8/5', '3.9 /5', '4.2 /5', '4.0 /5',\n",
       "       '4.1 /5', '3.7 /5', '3.1 /5', '2.9 /5', '3.3 /5', '2.8 /5',\n",
       "       '3.5 /5', '2.7 /5', '2.5 /5', '3.2 /5', '2.6 /5', '4.5 /5',\n",
       "       '4.3 /5', '4.4 /5', '4.9/5', '2.1/5', '2.0/5', '1.8/5', '4.6 /5',\n",
       "       '4.9 /5', '3.0 /5', '4.8 /5', '2.3 /5', '4.7 /5', '2.4 /5',\n",
       "       '2.1 /5', '2.2 /5', '2.0 /5', '1.8 /5'], dtype=object)"
      ]
     },
     "execution_count": 12,
     "metadata": {},
     "output_type": "execute_result"
    }
   ],
   "source": [
    "df['rate'].unique()"
   ]
  },
  {
   "cell_type": "code",
   "execution_count": 13,
   "id": "21836cec",
   "metadata": {
    "execution": {
     "iopub.execute_input": "2022-07-07T13:50:52.564884Z",
     "iopub.status.busy": "2022-07-07T13:50:52.564197Z",
     "iopub.status.idle": "2022-07-07T13:50:52.584343Z",
     "shell.execute_reply": "2022-07-07T13:50:52.583444Z"
    },
    "id": "vfCWWpe_FQiE",
    "outputId": "bac5866f-7582-43a7-9e07-2ee76bc4a74f",
    "papermill": {
     "duration": 0.04099,
     "end_time": "2022-07-07T13:50:52.586579",
     "exception": false,
     "start_time": "2022-07-07T13:50:52.545589",
     "status": "completed"
    },
    "tags": []
   },
   "outputs": [
    {
     "data": {
      "text/plain": [
       "array(['4.1/5', '3.8/5', '3.7/5', '3.6/5', '4.6/5', '4.0/5', '4.2/5',\n",
       "       '3.9/5', '3.1/5', '3.0/5', '3.2/5', '3.3/5', '2.8/5', '4.4/5',\n",
       "       '4.3/5', nan, '2.9/5', '3.5/5', '2.6/5', '3.8 /5', '3.4/5',\n",
       "       '4.5/5', '2.5/5', '2.7/5', '4.7/5', '2.4/5', '2.2/5', '2.3/5',\n",
       "       '3.4 /5', '3.6 /5', '4.8/5', '3.9 /5', '4.2 /5', '4.0 /5',\n",
       "       '4.1 /5', '3.7 /5', '3.1 /5', '2.9 /5', '3.3 /5', '2.8 /5',\n",
       "       '3.5 /5', '2.7 /5', '2.5 /5', '3.2 /5', '2.6 /5', '4.5 /5',\n",
       "       '4.3 /5', '4.4 /5', '4.9/5', '2.1/5', '2.0/5', '1.8/5', '4.6 /5',\n",
       "       '4.9 /5', '3.0 /5', '4.8 /5', '2.3 /5', '4.7 /5', '2.4 /5',\n",
       "       '2.1 /5', '2.2 /5', '2.0 /5', '1.8 /5'], dtype=object)"
      ]
     },
     "execution_count": 13,
     "metadata": {},
     "output_type": "execute_result"
    }
   ],
   "source": [
    "# Replace 'NEW', '-' as Nan\n",
    "\n",
    "df['rate'] = df['rate'].apply(lambda x: x if x not in ['NEW', '-'] else np.nan)\n",
    "df['rate'].unique()"
   ]
  },
  {
   "cell_type": "code",
   "execution_count": 14,
   "id": "54e61cd5",
   "metadata": {
    "execution": {
     "iopub.execute_input": "2022-07-07T13:50:52.623807Z",
     "iopub.status.busy": "2022-07-07T13:50:52.623088Z",
     "iopub.status.idle": "2022-07-07T13:50:52.668263Z",
     "shell.execute_reply": "2022-07-07T13:50:52.666959Z"
    },
    "id": "TYiUIANSFXGP",
    "outputId": "7428e150-51e3-4f2c-fe29-a93488154f7c",
    "papermill": {
     "duration": 0.066703,
     "end_time": "2022-07-07T13:50:52.670766",
     "exception": false,
     "start_time": "2022-07-07T13:50:52.604063",
     "status": "completed"
    },
    "tags": []
   },
   "outputs": [
    {
     "data": {
      "text/plain": [
       "array([4.1, 3.8, 3.7, 3.6, 4.6, 4. , 4.2, 3.9, 3.1, 3. , 3.2, 3.3, 2.8,\n",
       "       4.4, 4.3, nan, 2.9, 3.5, 2.6, 3.4, 4.5, 2.5, 2.7, 4.7, 2.4, 2.2,\n",
       "       2.3, 4.8, 4.9, 2.1, 2. , 1.8])"
      ]
     },
     "execution_count": 14,
     "metadata": {},
     "output_type": "execute_result"
    }
   ],
   "source": [
    "# Remove '/5' from Rate Column\n",
    "\n",
    "df['rate'] = [float(str(value).split('/')[0]) for value in df['rate']]\n",
    "df['rate'].unique()"
   ]
  },
  {
   "cell_type": "markdown",
   "id": "23d283f0",
   "metadata": {
    "id": "LFbx5rhBwbgO",
    "papermill": {
     "duration": 0.017262,
     "end_time": "2022-07-07T13:50:52.705561",
     "exception": false,
     "start_time": "2022-07-07T13:50:52.688299",
     "status": "completed"
    },
    "tags": []
   },
   "source": [
    "Mean of Rate column"
   ]
  },
  {
   "cell_type": "code",
   "execution_count": 15,
   "id": "481aab1f",
   "metadata": {
    "execution": {
     "iopub.execute_input": "2022-07-07T13:50:52.742713Z",
     "iopub.status.busy": "2022-07-07T13:50:52.742301Z",
     "iopub.status.idle": "2022-07-07T13:50:52.750748Z",
     "shell.execute_reply": "2022-07-07T13:50:52.749844Z"
    },
    "id": "fOD1Q8kUwDj4",
    "outputId": "0dcd0a45-e20e-4750-9676-94863708c972",
    "papermill": {
     "duration": 0.02968,
     "end_time": "2022-07-07T13:50:52.752865",
     "exception": false,
     "start_time": "2022-07-07T13:50:52.723185",
     "status": "completed"
    },
    "tags": []
   },
   "outputs": [
    {
     "data": {
      "text/plain": [
       "3.730490740121682"
      ]
     },
     "execution_count": 15,
     "metadata": {},
     "output_type": "execute_result"
    }
   ],
   "source": [
    "df['rate'].mean()"
   ]
  },
  {
   "cell_type": "markdown",
   "id": "5cb9cc89",
   "metadata": {
    "id": "25i5ftmTw-ZH",
    "papermill": {
     "duration": 0.017192,
     "end_time": "2022-07-07T13:50:52.787657",
     "exception": false,
     "start_time": "2022-07-07T13:50:52.770465",
     "status": "completed"
    },
    "tags": []
   },
   "source": [
    "Rename long column names"
   ]
  },
  {
   "cell_type": "code",
   "execution_count": 16,
   "id": "f617fac0",
   "metadata": {
    "execution": {
     "iopub.execute_input": "2022-07-07T13:50:52.824947Z",
     "iopub.status.busy": "2022-07-07T13:50:52.824511Z",
     "iopub.status.idle": "2022-07-07T13:50:52.844451Z",
     "shell.execute_reply": "2022-07-07T13:50:52.843581Z"
    },
    "id": "uBBZszQNH7zz",
    "outputId": "79e8ad02-b10a-47d0-db83-9c108b52cb6c",
    "papermill": {
     "duration": 0.041365,
     "end_time": "2022-07-07T13:50:52.846668",
     "exception": false,
     "start_time": "2022-07-07T13:50:52.805303",
     "status": "completed"
    },
    "tags": []
   },
   "outputs": [
    {
     "data": {
      "text/html": [
       "<div>\n",
       "<style scoped>\n",
       "    .dataframe tbody tr th:only-of-type {\n",
       "        vertical-align: middle;\n",
       "    }\n",
       "\n",
       "    .dataframe tbody tr th {\n",
       "        vertical-align: top;\n",
       "    }\n",
       "\n",
       "    .dataframe thead th {\n",
       "        text-align: right;\n",
       "    }\n",
       "</style>\n",
       "<table border=\"1\" class=\"dataframe\">\n",
       "  <thead>\n",
       "    <tr style=\"text-align: right;\">\n",
       "      <th></th>\n",
       "      <th>name</th>\n",
       "      <th>online_order</th>\n",
       "      <th>book_table</th>\n",
       "      <th>rate</th>\n",
       "      <th>votes</th>\n",
       "      <th>location</th>\n",
       "      <th>rest_type</th>\n",
       "      <th>cuisines</th>\n",
       "      <th>CostForTwo</th>\n",
       "      <th>Type</th>\n",
       "    </tr>\n",
       "  </thead>\n",
       "  <tbody>\n",
       "    <tr>\n",
       "      <th>0</th>\n",
       "      <td>Jalsa</td>\n",
       "      <td>Yes</td>\n",
       "      <td>Yes</td>\n",
       "      <td>4.1</td>\n",
       "      <td>775</td>\n",
       "      <td>Banashankari</td>\n",
       "      <td>Casual Dining</td>\n",
       "      <td>North Indian, Mughlai, Chinese</td>\n",
       "      <td>800</td>\n",
       "      <td>Buffet</td>\n",
       "    </tr>\n",
       "    <tr>\n",
       "      <th>1</th>\n",
       "      <td>Spice Elephant</td>\n",
       "      <td>Yes</td>\n",
       "      <td>No</td>\n",
       "      <td>4.1</td>\n",
       "      <td>787</td>\n",
       "      <td>Banashankari</td>\n",
       "      <td>Casual Dining</td>\n",
       "      <td>Chinese, North Indian, Thai</td>\n",
       "      <td>800</td>\n",
       "      <td>Buffet</td>\n",
       "    </tr>\n",
       "    <tr>\n",
       "      <th>2</th>\n",
       "      <td>San Churro Cafe</td>\n",
       "      <td>Yes</td>\n",
       "      <td>No</td>\n",
       "      <td>3.8</td>\n",
       "      <td>918</td>\n",
       "      <td>Banashankari</td>\n",
       "      <td>Cafe, Casual Dining</td>\n",
       "      <td>Cafe, Mexican, Italian</td>\n",
       "      <td>800</td>\n",
       "      <td>Buffet</td>\n",
       "    </tr>\n",
       "    <tr>\n",
       "      <th>3</th>\n",
       "      <td>Addhuri Udupi Bhojana</td>\n",
       "      <td>No</td>\n",
       "      <td>No</td>\n",
       "      <td>3.7</td>\n",
       "      <td>88</td>\n",
       "      <td>Banashankari</td>\n",
       "      <td>Quick Bites</td>\n",
       "      <td>South Indian, North Indian</td>\n",
       "      <td>300</td>\n",
       "      <td>Buffet</td>\n",
       "    </tr>\n",
       "    <tr>\n",
       "      <th>4</th>\n",
       "      <td>Grand Village</td>\n",
       "      <td>No</td>\n",
       "      <td>No</td>\n",
       "      <td>3.8</td>\n",
       "      <td>166</td>\n",
       "      <td>Basavanagudi</td>\n",
       "      <td>Casual Dining</td>\n",
       "      <td>North Indian, Rajasthani</td>\n",
       "      <td>600</td>\n",
       "      <td>Buffet</td>\n",
       "    </tr>\n",
       "  </tbody>\n",
       "</table>\n",
       "</div>"
      ],
      "text/plain": [
       "                    name online_order book_table  rate  votes      location  \\\n",
       "0                  Jalsa          Yes        Yes   4.1    775  Banashankari   \n",
       "1         Spice Elephant          Yes         No   4.1    787  Banashankari   \n",
       "2        San Churro Cafe          Yes         No   3.8    918  Banashankari   \n",
       "3  Addhuri Udupi Bhojana           No         No   3.7     88  Banashankari   \n",
       "4          Grand Village           No         No   3.8    166  Basavanagudi   \n",
       "\n",
       "             rest_type                        cuisines CostForTwo    Type  \n",
       "0        Casual Dining  North Indian, Mughlai, Chinese        800  Buffet  \n",
       "1        Casual Dining     Chinese, North Indian, Thai        800  Buffet  \n",
       "2  Cafe, Casual Dining          Cafe, Mexican, Italian        800  Buffet  \n",
       "3          Quick Bites      South Indian, North Indian        300  Buffet  \n",
       "4        Casual Dining        North Indian, Rajasthani        600  Buffet  "
      ]
     },
     "execution_count": 16,
     "metadata": {},
     "output_type": "execute_result"
    }
   ],
   "source": [
    "df = df.rename(columns = {'approx_cost(for two people)': 'CostForTwo', 'listed_in(type)':'Type'})\n",
    "df.head()"
   ]
  },
  {
   "cell_type": "code",
   "execution_count": 17,
   "id": "5ac89720",
   "metadata": {
    "execution": {
     "iopub.execute_input": "2022-07-07T13:50:52.884285Z",
     "iopub.status.busy": "2022-07-07T13:50:52.883849Z",
     "iopub.status.idle": "2022-07-07T13:50:52.893845Z",
     "shell.execute_reply": "2022-07-07T13:50:52.892927Z"
    },
    "id": "gtkvnQYiI4sF",
    "outputId": "2a81282c-9479-41dd-8ec7-6ff8c94262de",
    "papermill": {
     "duration": 0.031338,
     "end_time": "2022-07-07T13:50:52.895983",
     "exception": false,
     "start_time": "2022-07-07T13:50:52.864645",
     "status": "completed"
    },
    "tags": []
   },
   "outputs": [
    {
     "data": {
      "text/plain": [
       "array(['800', '300', '600', '700', '550', '500', '450', '650', '400',\n",
       "       '900', '200', '750', '150', '850', '100', '1,200', '350', '250',\n",
       "       '950', '1,000', '1,500', '1,300', '199', '80', '1,100', '160',\n",
       "       '1,600', '230', '130', '50', '190', '1,700', nan, '1,400', '180',\n",
       "       '1,350', '2,200', '2,000', '1,800', '1,900', '330', '2,500',\n",
       "       '2,100', '3,000', '2,800', '3,400', '40', '1,250', '3,500',\n",
       "       '4,000', '2,400', '2,600', '120', '1,450', '469', '70', '3,200',\n",
       "       '60', '560', '240', '360', '6,000', '1,050', '2,300', '4,100',\n",
       "       '5,000', '3,700', '1,650', '2,700', '4,500', '140'], dtype=object)"
      ]
     },
     "execution_count": 17,
     "metadata": {},
     "output_type": "execute_result"
    }
   ],
   "source": [
    "df['CostForTwo'].unique()"
   ]
  },
  {
   "cell_type": "markdown",
   "id": "d6cb835d",
   "metadata": {
    "papermill": {
     "duration": 0.017658,
     "end_time": "2022-07-07T13:50:52.931764",
     "exception": false,
     "start_time": "2022-07-07T13:50:52.914106",
     "status": "completed"
    },
    "tags": []
   },
   "source": [
    "Remove commas from the values and change to float datatype"
   ]
  },
  {
   "cell_type": "code",
   "execution_count": 18,
   "id": "4dd27e63",
   "metadata": {
    "execution": {
     "iopub.execute_input": "2022-07-07T13:50:52.969921Z",
     "iopub.status.busy": "2022-07-07T13:50:52.969277Z",
     "iopub.status.idle": "2022-07-07T13:50:53.008756Z",
     "shell.execute_reply": "2022-07-07T13:50:53.007642Z"
    },
    "id": "vOHJEQl_JwjX",
    "outputId": "41f34931-f027-484f-cf81-d0e52604261a",
    "papermill": {
     "duration": 0.061365,
     "end_time": "2022-07-07T13:50:53.011101",
     "exception": false,
     "start_time": "2022-07-07T13:50:52.949736",
     "status": "completed"
    },
    "tags": []
   },
   "outputs": [
    {
     "data": {
      "text/plain": [
       "array([ 800.,  300.,  600.,  700.,  550.,  500.,  450.,  650.,  400.,\n",
       "        900.,  200.,  750.,  150.,  850.,  100., 1200.,  350.,  250.,\n",
       "        950., 1000., 1500., 1300.,  199.,   80., 1100.,  160., 1600.,\n",
       "        230.,  130.,   50.,  190., 1700.,   nan, 1400.,  180., 1350.,\n",
       "       2200., 2000., 1800., 1900.,  330., 2500., 2100., 3000., 2800.,\n",
       "       3400.,   40., 1250., 3500., 4000., 2400., 2600.,  120., 1450.,\n",
       "        469.,   70., 3200.,   60.,  560.,  240.,  360., 6000., 1050.,\n",
       "       2300., 4100., 5000., 3700., 1650., 2700., 4500.,  140.])"
      ]
     },
     "execution_count": 18,
     "metadata": {},
     "output_type": "execute_result"
    }
   ],
   "source": [
    "df['CostForTwo'] = [float(str(value).replace(',','')) for value in df['CostForTwo']]\n",
    "df['CostForTwo'].unique()"
   ]
  },
  {
   "cell_type": "markdown",
   "id": "ef777def",
   "metadata": {
    "papermill": {
     "duration": 0.01834,
     "end_time": "2022-07-07T13:50:53.047840",
     "exception": false,
     "start_time": "2022-07-07T13:50:53.029500",
     "status": "completed"
    },
    "tags": []
   },
   "source": [
    "rest_type column"
   ]
  },
  {
   "cell_type": "code",
   "execution_count": 19,
   "id": "cd126404",
   "metadata": {
    "execution": {
     "iopub.execute_input": "2022-07-07T13:50:53.087213Z",
     "iopub.status.busy": "2022-07-07T13:50:53.086323Z",
     "iopub.status.idle": "2022-07-07T13:50:53.096161Z",
     "shell.execute_reply": "2022-07-07T13:50:53.095131Z"
    },
    "id": "dRWuP8KUNKOt",
    "outputId": "1b1ed996-cc6d-4707-e677-6b7272daf9eb",
    "papermill": {
     "duration": 0.032038,
     "end_time": "2022-07-07T13:50:53.098390",
     "exception": false,
     "start_time": "2022-07-07T13:50:53.066352",
     "status": "completed"
    },
    "tags": []
   },
   "outputs": [
    {
     "data": {
      "text/plain": [
       "array(['Casual Dining', 'Cafe, Casual Dining', 'Quick Bites',\n",
       "       'Casual Dining, Cafe', 'Cafe', 'Quick Bites, Cafe',\n",
       "       'Cafe, Quick Bites', 'Delivery', 'Mess', 'Dessert Parlor',\n",
       "       'Bakery, Dessert Parlor', 'Pub', 'Bakery', 'Takeaway, Delivery',\n",
       "       'Fine Dining', 'Beverage Shop', 'Sweet Shop', 'Bar',\n",
       "       'Beverage Shop, Quick Bites', 'Confectionery',\n",
       "       'Quick Bites, Beverage Shop', 'Dessert Parlor, Sweet Shop',\n",
       "       'Bakery, Quick Bites', 'Sweet Shop, Quick Bites', 'Kiosk',\n",
       "       'Food Truck', 'Quick Bites, Dessert Parlor',\n",
       "       'Beverage Shop, Dessert Parlor', 'Takeaway', 'Pub, Casual Dining',\n",
       "       'Casual Dining, Bar', 'Dessert Parlor, Beverage Shop',\n",
       "       'Quick Bites, Bakery', 'Dessert Parlor, Quick Bites',\n",
       "       'Microbrewery, Casual Dining', 'Lounge', 'Bar, Casual Dining',\n",
       "       'Food Court', 'Cafe, Bakery', nan, 'Dhaba',\n",
       "       'Quick Bites, Sweet Shop', 'Microbrewery',\n",
       "       'Food Court, Quick Bites', 'Pub, Bar', 'Casual Dining, Pub',\n",
       "       'Lounge, Bar', 'Food Court, Dessert Parlor',\n",
       "       'Casual Dining, Sweet Shop', 'Food Court, Casual Dining',\n",
       "       'Casual Dining, Microbrewery', 'Sweet Shop, Dessert Parlor',\n",
       "       'Bakery, Beverage Shop', 'Lounge, Casual Dining',\n",
       "       'Cafe, Food Court', 'Beverage Shop, Cafe', 'Cafe, Dessert Parlor',\n",
       "       'Dessert Parlor, Cafe', 'Dessert Parlor, Bakery',\n",
       "       'Microbrewery, Pub', 'Bakery, Food Court', 'Club',\n",
       "       'Quick Bites, Food Court', 'Bakery, Cafe', 'Bar, Cafe',\n",
       "       'Pub, Cafe', 'Casual Dining, Irani Cafee', 'Fine Dining, Lounge',\n",
       "       'Bar, Quick Bites', 'Bakery, Kiosk', 'Pub, Microbrewery',\n",
       "       'Microbrewery, Lounge', 'Fine Dining, Microbrewery',\n",
       "       'Fine Dining, Bar', 'Mess, Quick Bites', 'Dessert Parlor, Kiosk',\n",
       "       'Bhojanalya', 'Casual Dining, Quick Bites', 'Pop Up', 'Cafe, Bar',\n",
       "       'Casual Dining, Lounge', 'Bakery, Sweet Shop', 'Microbrewery, Bar',\n",
       "       'Cafe, Lounge', 'Bar, Pub', 'Lounge, Cafe', 'Club, Casual Dining',\n",
       "       'Quick Bites, Mess', 'Quick Bites, Meat Shop',\n",
       "       'Quick Bites, Kiosk', 'Lounge, Microbrewery',\n",
       "       'Food Court, Beverage Shop', 'Dessert Parlor, Food Court',\n",
       "       'Bar, Lounge'], dtype=object)"
      ]
     },
     "execution_count": 19,
     "metadata": {},
     "output_type": "execute_result"
    }
   ],
   "source": [
    "df['rest_type'].unique()"
   ]
  },
  {
   "cell_type": "code",
   "execution_count": 20,
   "id": "4e9180f3",
   "metadata": {
    "execution": {
     "iopub.execute_input": "2022-07-07T13:50:53.138900Z",
     "iopub.status.busy": "2022-07-07T13:50:53.138237Z",
     "iopub.status.idle": "2022-07-07T13:50:53.150691Z",
     "shell.execute_reply": "2022-07-07T13:50:53.149835Z"
    },
    "id": "ux_r-73yOduL",
    "outputId": "36cbfb9b-f293-42a8-ad8c-ec1a80079ad6",
    "papermill": {
     "duration": 0.035945,
     "end_time": "2022-07-07T13:50:53.152946",
     "exception": false,
     "start_time": "2022-07-07T13:50:53.117001",
     "status": "completed"
    },
    "tags": []
   },
   "outputs": [
    {
     "data": {
      "text/plain": [
       "Quick Bites                   12179\n",
       "Casual Dining                  7573\n",
       "Cafe                           2606\n",
       "Delivery                       1520\n",
       "Dessert Parlor                 1504\n",
       "                              ...  \n",
       "Bakery, Sweet Shop                1\n",
       "Mess, Quick Bites                 1\n",
       "Quick Bites, Kiosk                1\n",
       "Dessert Parlor, Food Court        1\n",
       "Sweet Shop, Dessert Parlor        1\n",
       "Name: rest_type, Length: 93, dtype: int64"
      ]
     },
     "execution_count": 20,
     "metadata": {},
     "output_type": "execute_result"
    }
   ],
   "source": [
    "df['rest_type'].value_counts()"
   ]
  },
  {
   "cell_type": "markdown",
   "id": "debd74cb",
   "metadata": {
    "papermill": {
     "duration": 0.018716,
     "end_time": "2022-07-07T13:50:53.190415",
     "exception": false,
     "start_time": "2022-07-07T13:50:53.171699",
     "status": "completed"
    },
    "tags": []
   },
   "source": [
    "Group 'minor' values as 'others'"
   ]
  },
  {
   "cell_type": "code",
   "execution_count": 21,
   "id": "80925047",
   "metadata": {
    "execution": {
     "iopub.execute_input": "2022-07-07T13:50:53.231025Z",
     "iopub.status.busy": "2022-07-07T13:50:53.230356Z",
     "iopub.status.idle": "2022-07-07T13:50:53.243525Z",
     "shell.execute_reply": "2022-07-07T13:50:53.242297Z"
    },
    "id": "L9A745upOpdx",
    "outputId": "525c32e5-b8ff-417a-a83c-a38e0b3d85c4",
    "papermill": {
     "duration": 0.036643,
     "end_time": "2022-07-07T13:50:53.245958",
     "exception": false,
     "start_time": "2022-07-07T13:50:53.209315",
     "status": "completed"
    },
    "tags": []
   },
   "outputs": [
    {
     "data": {
      "text/plain": [
       "Quick Bites                   12179\n",
       "Casual Dining                  7573\n",
       "Cafe                           2606\n",
       "Delivery                       1520\n",
       "Dessert Parlor                 1504\n",
       "                              ...  \n",
       "Bakery, Sweet Shop                1\n",
       "Mess, Quick Bites                 1\n",
       "Quick Bites, Kiosk                1\n",
       "Dessert Parlor, Food Court        1\n",
       "Sweet Shop, Dessert Parlor        1\n",
       "Name: rest_type, Length: 93, dtype: int64"
      ]
     },
     "execution_count": 21,
     "metadata": {},
     "output_type": "execute_result"
    }
   ],
   "source": [
    "rest_types = df['rest_type'].value_counts(ascending=False)\n",
    "rest_types"
   ]
  },
  {
   "cell_type": "code",
   "execution_count": 22,
   "id": "e2e901e1",
   "metadata": {
    "execution": {
     "iopub.execute_input": "2022-07-07T13:50:53.287088Z",
     "iopub.status.busy": "2022-07-07T13:50:53.286426Z",
     "iopub.status.idle": "2022-07-07T13:50:53.295989Z",
     "shell.execute_reply": "2022-07-07T13:50:53.294746Z"
    },
    "id": "R3QBkrcMPmmX",
    "outputId": "39292105-f26d-448a-9898-d80263f1f5ac",
    "papermill": {
     "duration": 0.032552,
     "end_time": "2022-07-07T13:50:53.298277",
     "exception": false,
     "start_time": "2022-07-07T13:50:53.265725",
     "status": "completed"
    },
    "tags": []
   },
   "outputs": [
    {
     "data": {
      "text/plain": [
       "Casual Dining, Bar            961\n",
       "Bakery                        736\n",
       "Beverage Shop                 488\n",
       "Bar                           481\n",
       "Food Court                    427\n",
       "                             ... \n",
       "Bakery, Sweet Shop              1\n",
       "Mess, Quick Bites               1\n",
       "Quick Bites, Kiosk              1\n",
       "Dessert Parlor, Food Court      1\n",
       "Sweet Shop, Dessert Parlor      1\n",
       "Name: rest_type, Length: 87, dtype: int64"
      ]
     },
     "execution_count": 22,
     "metadata": {},
     "output_type": "execute_result"
    }
   ],
   "source": [
    "rest_types_lessthan1000 = rest_types[rest_types<1000]\n",
    "rest_types_lessthan1000"
   ]
  },
  {
   "cell_type": "code",
   "execution_count": 23,
   "id": "888b8a9a",
   "metadata": {
    "execution": {
     "iopub.execute_input": "2022-07-07T13:50:53.339085Z",
     "iopub.status.busy": "2022-07-07T13:50:53.338660Z",
     "iopub.status.idle": "2022-07-07T13:50:53.406349Z",
     "shell.execute_reply": "2022-07-07T13:50:53.405020Z"
    },
    "id": "o574V_0rP0Ml",
    "outputId": "d2d4ac43-9f96-40ca-8e48-02fc9debdaf0",
    "papermill": {
     "duration": 0.091619,
     "end_time": "2022-07-07T13:50:53.409292",
     "exception": false,
     "start_time": "2022-07-07T13:50:53.317673",
     "status": "completed"
    },
    "tags": []
   },
   "outputs": [
    {
     "data": {
      "text/plain": [
       "Quick Bites           12179\n",
       "others                 8246\n",
       "Casual Dining          7573\n",
       "Cafe                   2606\n",
       "Delivery               1520\n",
       "Dessert Parlor         1504\n",
       "Takeaway, Delivery     1227\n",
       "Name: rest_type, dtype: int64"
      ]
     },
     "execution_count": 23,
     "metadata": {},
     "output_type": "execute_result"
    }
   ],
   "source": [
    "# making these less than 1000 values as 'others'\n",
    "\n",
    "df['rest_type'] = df['rest_type'].apply(lambda x: x if x not in rest_types_lessthan1000 else 'others')\n",
    "df['rest_type'].value_counts()"
   ]
  },
  {
   "cell_type": "markdown",
   "id": "97c63a91",
   "metadata": {
    "papermill": {
     "duration": 0.019037,
     "end_time": "2022-07-07T13:50:53.447978",
     "exception": false,
     "start_time": "2022-07-07T13:50:53.428941",
     "status": "completed"
    },
    "tags": []
   },
   "source": [
    "location column"
   ]
  },
  {
   "cell_type": "code",
   "execution_count": 24,
   "id": "e3516c50",
   "metadata": {
    "execution": {
     "iopub.execute_input": "2022-07-07T13:50:53.489011Z",
     "iopub.status.busy": "2022-07-07T13:50:53.488295Z",
     "iopub.status.idle": "2022-07-07T13:50:53.501565Z",
     "shell.execute_reply": "2022-07-07T13:50:53.500697Z"
    },
    "id": "PjT2EdtcQnQr",
    "outputId": "6792c84e-b8c6-46e4-edd2-a50525557aeb",
    "papermill": {
     "duration": 0.036443,
     "end_time": "2022-07-07T13:50:53.503798",
     "exception": false,
     "start_time": "2022-07-07T13:50:53.467355",
     "status": "completed"
    },
    "tags": []
   },
   "outputs": [
    {
     "data": {
      "text/plain": [
       "BTM                     2514\n",
       "Whitefield              1972\n",
       "Indiranagar             1789\n",
       "HSR                     1769\n",
       "Marathahalli            1683\n",
       "                        ... \n",
       "Central Bangalore          5\n",
       "Nagarbhavi                 4\n",
       "Rajarajeshwari Nagar       2\n",
       "Jakkur                     1\n",
       "Peenya                     1\n",
       "Name: location, Length: 93, dtype: int64"
      ]
     },
     "execution_count": 24,
     "metadata": {},
     "output_type": "execute_result"
    }
   ],
   "source": [
    "df['location'].value_counts()"
   ]
  },
  {
   "cell_type": "code",
   "execution_count": 25,
   "id": "827938c3",
   "metadata": {
    "execution": {
     "iopub.execute_input": "2022-07-07T13:50:53.544870Z",
     "iopub.status.busy": "2022-07-07T13:50:53.544441Z",
     "iopub.status.idle": "2022-07-07T13:50:53.559182Z",
     "shell.execute_reply": "2022-07-07T13:50:53.558238Z"
    },
    "id": "e6IjNKUQR-K5",
    "outputId": "27f4913b-1c63-4a07-bea5-fb8c08434164",
    "papermill": {
     "duration": 0.037928,
     "end_time": "2022-07-07T13:50:53.561360",
     "exception": false,
     "start_time": "2022-07-07T13:50:53.523432",
     "status": "completed"
    },
    "tags": []
   },
   "outputs": [
    {
     "data": {
      "text/plain": [
       "Cunningham Road                  287\n",
       "Jeevan Bhima Nagar               262\n",
       "Shanti Nagar                     258\n",
       "St. Marks Road                   244\n",
       "Vasanth Nagar                    182\n",
       "Bommanahalli                     181\n",
       "Basaveshwara Nagar               177\n",
       "Thippasandra                     176\n",
       "Shivajinagar                     167\n",
       "Commercial Street                164\n",
       "Ejipura                          160\n",
       "Koramangala 8th Block            155\n",
       "Kumaraswamy Layout               134\n",
       "Koramangala 3rd Block            129\n",
       "Wilson Garden                    128\n",
       "Majestic                         119\n",
       "Nagawara                         117\n",
       "Seshadripuram                    115\n",
       "Hennur                           107\n",
       "Varthur Main Road, Whitefield    104\n",
       "ITPL Main Road, Whitefield       102\n",
       "HBR Layout                       100\n",
       "Yeshwantpur                       95\n",
       "Race Course Road                  94\n",
       "City Market                       85\n",
       "Infantry Road                     84\n",
       "Kaggadasapura                     81\n",
       "CV Raman Nagar                    79\n",
       "Vijay Nagar                       77\n",
       "Sanjay Nagar                      72\n",
       "RT Nagar                          66\n",
       "Sadashiv Nagar                    62\n",
       "Sahakara Nagar                    53\n",
       "South Bangalore                   51\n",
       "Hosur Road                        47\n",
       "Koramangala 2nd Block             46\n",
       "East Bangalore                    38\n",
       "Magadi Road                       34\n",
       "Jalahalli                         34\n",
       "Koramangala                       21\n",
       "Mysore Road                       21\n",
       "Sankey Road                       21\n",
       "Rammurthy Nagar                   19\n",
       "Kanakapura Road                   19\n",
       "Old Madras Road                   18\n",
       "KR Puram                          17\n",
       "Langford Town                     16\n",
       "Hebbal                            14\n",
       "Uttarahalli                       13\n",
       "North Bangalore                   10\n",
       "West Bangalore                     6\n",
       "Yelahanka                          6\n",
       "Kengeri                            5\n",
       "Central Bangalore                  5\n",
       "Nagarbhavi                         4\n",
       "Rajarajeshwari Nagar               2\n",
       "Jakkur                             1\n",
       "Peenya                             1\n",
       "Name: location, dtype: int64"
      ]
     },
     "execution_count": 25,
     "metadata": {},
     "output_type": "execute_result"
    }
   ],
   "source": [
    "# Group as 'others' if value count is less than 300\n",
    "\n",
    "location = df['location'].value_counts(ascending=False)\n",
    "\n",
    "location_lessthan300 = location[location<300]\n",
    "location_lessthan300"
   ]
  },
  {
   "cell_type": "code",
   "execution_count": 26,
   "id": "2ec31111",
   "metadata": {
    "execution": {
     "iopub.execute_input": "2022-07-07T13:50:53.603568Z",
     "iopub.status.busy": "2022-07-07T13:50:53.602632Z",
     "iopub.status.idle": "2022-07-07T13:50:53.669236Z",
     "shell.execute_reply": "2022-07-07T13:50:53.667983Z"
    },
    "id": "oi2wMSNNSQO-",
    "outputId": "69f46c9c-cfd5-4487-b757-2040059053c3",
    "papermill": {
     "duration": 0.090276,
     "end_time": "2022-07-07T13:50:53.671773",
     "exception": false,
     "start_time": "2022-07-07T13:50:53.581497",
     "status": "completed"
    },
    "tags": []
   },
   "outputs": [
    {
     "data": {
      "text/plain": [
       "others                   4885\n",
       "BTM                      2514\n",
       "Whitefield               1972\n",
       "Indiranagar              1789\n",
       "HSR                      1769\n",
       "Marathahalli             1683\n",
       "Koramangala 5th Block    1615\n",
       "JP Nagar                 1411\n",
       "Jayanagar                1248\n",
       "Electronic City          1222\n",
       "Bellandur                1134\n",
       "Bannerghatta Road        1060\n",
       "Sarjapur Road             947\n",
       "Brigade Road              687\n",
       "Koramangala 7th Block     626\n",
       "Brookefield               600\n",
       "Koramangala 6th Block     599\n",
       "Kalyan Nagar              594\n",
       "Koramangala 4th Block     587\n",
       "New BEL Road              586\n",
       "Banashankari              573\n",
       "MG Road                   566\n",
       "Malleshwaram              557\n",
       "Ulsoor                    547\n",
       "Koramangala 1st Block     540\n",
       "Frazer Town               475\n",
       "Basavanagudi              463\n",
       "Rajajinagar               462\n",
       "Church Street             446\n",
       "Banaswadi                 442\n",
       "Residency Road            424\n",
       "Kammanahalli              423\n",
       "Old Airport Road          407\n",
       "Lavelle Road              400\n",
       "Richmond Road             393\n",
       "Domlur                    351\n",
       "Name: location, dtype: int64"
      ]
     },
     "execution_count": 26,
     "metadata": {},
     "output_type": "execute_result"
    }
   ],
   "source": [
    "df['location'] = df['location'].apply(lambda x: x if x not in location_lessthan300 else 'others')\n",
    "df['location'].value_counts()"
   ]
  },
  {
   "cell_type": "markdown",
   "id": "782098a9",
   "metadata": {
    "papermill": {
     "duration": 0.019583,
     "end_time": "2022-07-07T13:50:53.711266",
     "exception": false,
     "start_time": "2022-07-07T13:50:53.691683",
     "status": "completed"
    },
    "tags": []
   },
   "source": [
    "cuisines column"
   ]
  },
  {
   "cell_type": "code",
   "execution_count": 27,
   "id": "43d6c37f",
   "metadata": {
    "execution": {
     "iopub.execute_input": "2022-07-07T13:50:53.752412Z",
     "iopub.status.busy": "2022-07-07T13:50:53.752016Z",
     "iopub.status.idle": "2022-07-07T13:50:53.762711Z",
     "shell.execute_reply": "2022-07-07T13:50:53.761843Z"
    },
    "id": "WpZRg9QyTr_E",
    "papermill": {
     "duration": 0.03381,
     "end_time": "2022-07-07T13:50:53.764955",
     "exception": false,
     "start_time": "2022-07-07T13:50:53.731145",
     "status": "completed"
    },
    "tags": []
   },
   "outputs": [],
   "source": [
    "cuisines = df['cuisines'].value_counts()"
   ]
  },
  {
   "cell_type": "code",
   "execution_count": 28,
   "id": "bc97cadb",
   "metadata": {
    "execution": {
     "iopub.execute_input": "2022-07-07T13:50:53.806239Z",
     "iopub.status.busy": "2022-07-07T13:50:53.805837Z",
     "iopub.status.idle": "2022-07-07T13:50:53.876517Z",
     "shell.execute_reply": "2022-07-07T13:50:53.875528Z"
    },
    "id": "JbpN1i2nT8Hc",
    "outputId": "73999e48-d509-4237-cdbf-96f927859988",
    "papermill": {
     "duration": 0.09415,
     "end_time": "2022-07-07T13:50:53.878861",
     "exception": false,
     "start_time": "2022-07-07T13:50:53.784711",
     "status": "completed"
    },
    "tags": []
   },
   "outputs": [
    {
     "data": {
      "text/plain": [
       "others                                              19782\n",
       "North Indian                                         1928\n",
       "North Indian, Chinese                                1585\n",
       "South Indian                                         1175\n",
       "Bakery, Desserts                                      597\n",
       "Biryani                                               563\n",
       "Fast Food                                             490\n",
       "South Indian, North Indian, Chinese                   477\n",
       "Cafe                                                  466\n",
       "Desserts                                              451\n",
       "Bakery                                                387\n",
       "Chinese                                               338\n",
       "Ice Cream, Desserts                                   305\n",
       "Mithai, Street Food                                   260\n",
       "Chinese, North Indian                                 253\n",
       "North Indian, Chinese, Biryani                        240\n",
       "North Indian, South Indian                            233\n",
       "Desserts, Ice Cream                                   230\n",
       "North Indian, South Indian, Chinese                   212\n",
       "South Indian, North Indian                            208\n",
       "Finger Food                                           208\n",
       "North Indian, Biryani                                 192\n",
       "Desserts, Beverages                                   186\n",
       "Biryani, North Indian                                 180\n",
       "Street Food                                           179\n",
       "Biryani, Kebab                                        174\n",
       "Cafe, Fast Food                                       164\n",
       "Chinese, Momos                                        162\n",
       "Beverages, Fast Food                                  161\n",
       "Beverages                                             159\n",
       "South Indian, Biryani                                 154\n",
       "Burger, Fast Food                                     147\n",
       "South Indian, Chinese                                 145\n",
       "North Indian, Mughlai                                 144\n",
       "South Indian, North Indian, Chinese, Street Food      142\n",
       "Desserts, Bakery                                      139\n",
       "Kerala                                                135\n",
       "Fast Food, Beverages                                  134\n",
       "Ice Cream                                             130\n",
       "North Indian, Fast Food                               129\n",
       "Continental                                           129\n",
       "Cafe, Continental                                     126\n",
       "Pizza, Fast Food                                      126\n",
       "Bakery, Fast Food                                     125\n",
       "Chinese, Thai                                         120\n",
       "Fast Food, Rolls                                      120\n",
       "Biryani, North Indian, Chinese                        119\n",
       "North Indian, Chinese, South Indian                   116\n",
       "North Indian, Chinese, Fast Food                      115\n",
       "Andhra                                                114\n",
       "Pizza                                                 112\n",
       "Biryani, Fast Food                                    105\n",
       "Andhra, Biryani                                       104\n",
       "Arabian                                               103\n",
       "Name: cuisines, dtype: int64"
      ]
     },
     "execution_count": 28,
     "metadata": {},
     "output_type": "execute_result"
    }
   ],
   "source": [
    "cuisines_lessthan100 = cuisines[cuisines<100]\n",
    "\n",
    "df['cuisines'] = df['cuisines'].apply(lambda x: x if x not in cuisines_lessthan100 else 'others')\n",
    "df['cuisines'].value_counts()"
   ]
  },
  {
   "cell_type": "markdown",
   "id": "609f099f",
   "metadata": {
    "id": "qaGxGPytyO4y",
    "papermill": {
     "duration": 0.020145,
     "end_time": "2022-07-07T13:50:53.919141",
     "exception": false,
     "start_time": "2022-07-07T13:50:53.898996",
     "status": "completed"
    },
    "tags": []
   },
   "source": [
    "## Data Visualization"
   ]
  },
  {
   "cell_type": "markdown",
   "id": "11417227",
   "metadata": {
    "id": "zmTx5r1Rys5d",
    "papermill": {
     "duration": 0.019562,
     "end_time": "2022-07-07T13:50:53.958558",
     "exception": false,
     "start_time": "2022-07-07T13:50:53.938996",
     "status": "completed"
    },
    "tags": []
   },
   "source": [
    "Number of restaurants by location"
   ]
  },
  {
   "cell_type": "code",
   "execution_count": 29,
   "id": "844c524a",
   "metadata": {
    "execution": {
     "iopub.execute_input": "2022-07-07T13:50:54.000857Z",
     "iopub.status.busy": "2022-07-07T13:50:53.999751Z",
     "iopub.status.idle": "2022-07-07T13:50:54.576012Z",
     "shell.execute_reply": "2022-07-07T13:50:54.574658Z"
    },
    "id": "GJW94hhqUpn0",
    "outputId": "5d35a878-064d-49d8-e2a8-974231954f83",
    "papermill": {
     "duration": 0.600422,
     "end_time": "2022-07-07T13:50:54.578941",
     "exception": false,
     "start_time": "2022-07-07T13:50:53.978519",
     "status": "completed"
    },
    "tags": []
   },
   "outputs": [
    {
     "data": {
      "image/png": "[encoded data removed]",
      "text/plain": [
       "<Figure size 1152x720 with 1 Axes>"
      ]
     },
     "metadata": {
      "needs_background": "light"
     },
     "output_type": "display_data"
    }
   ],
   "source": [
    "order_by_size = df.groupby('location').size().sort_values().index[::-1] # [::-1] reverses the ascending order\n",
    "\n",
    "plt.figure(figsize=(16,10))\n",
    "sns.countplot(df['location'], order = order_by_size)\n",
    "plt.xticks(rotation=90)   # rotates x-label so it becomes readable\n",
    "plt.show()"
   ]
  },
  {
   "cell_type": "markdown",
   "id": "c4e6ad0a",
   "metadata": {
    "id": "UwM3v_zH2yR-",
    "papermill": {
     "duration": 0.02061,
     "end_time": "2022-07-07T13:50:54.620433",
     "exception": false,
     "start_time": "2022-07-07T13:50:54.599823",
     "status": "completed"
    },
    "tags": []
   },
   "source": [
    "Online order - availability"
   ]
  },
  {
   "cell_type": "code",
   "execution_count": 30,
   "id": "5ea48689",
   "metadata": {
    "execution": {
     "iopub.execute_input": "2022-07-07T13:50:54.664388Z",
     "iopub.status.busy": "2022-07-07T13:50:54.663968Z",
     "iopub.status.idle": "2022-07-07T13:50:54.898621Z",
     "shell.execute_reply": "2022-07-07T13:50:54.897607Z"
    },
    "id": "U9aJtwbp3DOp",
    "outputId": "6edabf23-ea47-4a67-974e-a362efaeac6a",
    "papermill": {
     "duration": 0.259546,
     "end_time": "2022-07-07T13:50:54.901068",
     "exception": false,
     "start_time": "2022-07-07T13:50:54.641522",
     "status": "completed"
    },
    "tags": []
   },
   "outputs": [
    {
     "data": {
      "image/png": "[encoded data removed]",
      "text/plain": [
       "<Figure size 576x360 with 1 Axes>"
      ]
     },
     "metadata": {
      "needs_background": "light"
     },
     "output_type": "display_data"
    }
   ],
   "source": [
    "plt.figure(figsize=(8,5))\n",
    "sns.countplot(df['online_order'])\n",
    "plt.show()"
   ]
  },
  {
   "cell_type": "markdown",
   "id": "6de30ca1",
   "metadata": {
    "id": "Ia4Rbvaw4DlE",
    "papermill": {
     "duration": 0.021092,
     "end_time": "2022-07-07T13:50:54.943725",
     "exception": false,
     "start_time": "2022-07-07T13:50:54.922633",
     "status": "completed"
    },
    "tags": []
   },
   "source": [
    "Online order - availability vs rate"
   ]
  },
  {
   "cell_type": "code",
   "execution_count": 31,
   "id": "5d212c54",
   "metadata": {
    "execution": {
     "iopub.execute_input": "2022-07-07T13:50:54.988761Z",
     "iopub.status.busy": "2022-07-07T13:50:54.988038Z",
     "iopub.status.idle": "2022-07-07T13:50:55.223580Z",
     "shell.execute_reply": "2022-07-07T13:50:55.222309Z"
    },
    "id": "V1u0TerxVE7C",
    "outputId": "5425cdec-6939-46cb-841a-26c5f100c845",
    "papermill": {
     "duration": 0.261111,
     "end_time": "2022-07-07T13:50:55.226312",
     "exception": false,
     "start_time": "2022-07-07T13:50:54.965201",
     "status": "completed"
    },
    "tags": []
   },
   "outputs": [
    {
     "data": {
      "image/png": "[encoded data removed]",
      "text/plain": [
       "<Figure size 576x360 with 1 Axes>"
      ]
     },
     "metadata": {
      "needs_background": "light"
     },
     "output_type": "display_data"
    }
   ],
   "source": [
    "plt.figure(figsize=(8,5))\n",
    "sns.boxplot(x = 'online_order', y='rate', data=df, showmeans=True)\n",
    "plt.show()"
   ]
  },
  {
   "cell_type": "markdown",
   "id": "b067df4a",
   "metadata": {
    "id": "Peo9FTLe4u2B",
    "papermill": {
     "duration": 0.020968,
     "end_time": "2022-07-07T13:50:55.268649",
     "exception": false,
     "start_time": "2022-07-07T13:50:55.247681",
     "status": "completed"
    },
    "tags": []
   },
   "source": [
    "Book Table - availability"
   ]
  },
  {
   "cell_type": "code",
   "execution_count": 32,
   "id": "bc533213",
   "metadata": {
    "execution": {
     "iopub.execute_input": "2022-07-07T13:50:55.313956Z",
     "iopub.status.busy": "2022-07-07T13:50:55.313489Z",
     "iopub.status.idle": "2022-07-07T13:50:55.535363Z",
     "shell.execute_reply": "2022-07-07T13:50:55.534091Z"
    },
    "id": "gtnLbfeA4zCe",
    "outputId": "96d68a88-6a62-4d33-d517-54cc34cc37fd",
    "papermill": {
     "duration": 0.247363,
     "end_time": "2022-07-07T13:50:55.537801",
     "exception": false,
     "start_time": "2022-07-07T13:50:55.290438",
     "status": "completed"
    },
    "tags": []
   },
   "outputs": [
    {
     "data": {
      "image/png": "[encoded data removed]",
      "text/plain": [
       "<Figure size 576x360 with 1 Axes>"
      ]
     },
     "metadata": {
      "needs_background": "light"
     },
     "output_type": "display_data"
    }
   ],
   "source": [
    "plt.figure(figsize=(8,5))\n",
    "sns.countplot(df['book_table'])\n",
    "plt.show()"
   ]
  },
  {
   "cell_type": "markdown",
   "id": "111aeec3",
   "metadata": {
    "id": "DZk5-Q4J5GTp",
    "papermill": {
     "duration": 0.021571,
     "end_time": "2022-07-07T13:50:55.581218",
     "exception": false,
     "start_time": "2022-07-07T13:50:55.559647",
     "status": "completed"
    },
    "tags": []
   },
   "source": [
    "Book table - availability vs rate"
   ]
  },
  {
   "cell_type": "code",
   "execution_count": 33,
   "id": "694fa243",
   "metadata": {
    "execution": {
     "iopub.execute_input": "2022-07-07T13:50:55.627122Z",
     "iopub.status.busy": "2022-07-07T13:50:55.626415Z",
     "iopub.status.idle": "2022-07-07T13:50:55.864704Z",
     "shell.execute_reply": "2022-07-07T13:50:55.863744Z"
    },
    "id": "8SdwJYxP4zQ6",
    "outputId": "f8f9bde4-d068-40f8-9a64-e7ead22e272f",
    "papermill": {
     "duration": 0.264271,
     "end_time": "2022-07-07T13:50:55.867172",
     "exception": false,
     "start_time": "2022-07-07T13:50:55.602901",
     "status": "completed"
    },
    "tags": []
   },
   "outputs": [
    {
     "data": {
      "image/png": "[encoded data removed]",
      "text/plain": [
       "<Figure size 576x360 with 1 Axes>"
      ]
     },
     "metadata": {
      "needs_background": "light"
     },
     "output_type": "display_data"
    }
   ],
   "source": [
    "plt.figure(figsize=(8,5))\n",
    "sns.boxplot(x = 'book_table', y='rate', data=df, showmeans=True)\n",
    "plt.show()"
   ]
  },
  {
   "cell_type": "markdown",
   "id": "34b6c885",
   "metadata": {
    "id": "rT-6ba1yr72e",
    "papermill": {
     "duration": 0.021795,
     "end_time": "2022-07-07T13:50:55.910916",
     "exception": false,
     "start_time": "2022-07-07T13:50:55.889121",
     "status": "completed"
    },
    "tags": []
   },
   "source": [
    "Online order availability by location"
   ]
  },
  {
   "cell_type": "code",
   "execution_count": 34,
   "id": "3feffa0b",
   "metadata": {
    "execution": {
     "iopub.execute_input": "2022-07-07T13:50:55.960520Z",
     "iopub.status.busy": "2022-07-07T13:50:55.959840Z",
     "iopub.status.idle": "2022-07-07T13:50:55.983353Z",
     "shell.execute_reply": "2022-07-07T13:50:55.982461Z"
    },
    "id": "NlHhtXEI5r3k",
    "outputId": "1c79408a-530d-4845-dbea-b269055caaaf",
    "papermill": {
     "duration": 0.050509,
     "end_time": "2022-07-07T13:50:55.985629",
     "exception": false,
     "start_time": "2022-07-07T13:50:55.935120",
     "status": "completed"
    },
    "tags": []
   },
   "outputs": [
    {
     "data": {
      "text/html": [
       "<div>\n",
       "<style scoped>\n",
       "    .dataframe tbody tr th:only-of-type {\n",
       "        vertical-align: middle;\n",
       "    }\n",
       "\n",
       "    .dataframe tbody tr th {\n",
       "        vertical-align: top;\n",
       "    }\n",
       "\n",
       "    .dataframe thead th {\n",
       "        text-align: right;\n",
       "    }\n",
       "</style>\n",
       "<table border=\"1\" class=\"dataframe\">\n",
       "  <thead>\n",
       "    <tr style=\"text-align: right;\">\n",
       "      <th>online_order</th>\n",
       "      <th>No</th>\n",
       "      <th>Yes</th>\n",
       "    </tr>\n",
       "    <tr>\n",
       "      <th>location</th>\n",
       "      <th></th>\n",
       "      <th></th>\n",
       "    </tr>\n",
       "  </thead>\n",
       "  <tbody>\n",
       "    <tr>\n",
       "      <th>BTM</th>\n",
       "      <td>815</td>\n",
       "      <td>1699</td>\n",
       "    </tr>\n",
       "    <tr>\n",
       "      <th>Banashankari</th>\n",
       "      <td>260</td>\n",
       "      <td>313</td>\n",
       "    </tr>\n",
       "    <tr>\n",
       "      <th>Banaswadi</th>\n",
       "      <td>223</td>\n",
       "      <td>219</td>\n",
       "    </tr>\n",
       "    <tr>\n",
       "      <th>Bannerghatta Road</th>\n",
       "      <td>407</td>\n",
       "      <td>653</td>\n",
       "    </tr>\n",
       "    <tr>\n",
       "      <th>Basavanagudi</th>\n",
       "      <td>182</td>\n",
       "      <td>281</td>\n",
       "    </tr>\n",
       "    <tr>\n",
       "      <th>Bellandur</th>\n",
       "      <td>443</td>\n",
       "      <td>691</td>\n",
       "    </tr>\n",
       "    <tr>\n",
       "      <th>Brigade Road</th>\n",
       "      <td>293</td>\n",
       "      <td>394</td>\n",
       "    </tr>\n",
       "    <tr>\n",
       "      <th>Brookefield</th>\n",
       "      <td>208</td>\n",
       "      <td>392</td>\n",
       "    </tr>\n",
       "    <tr>\n",
       "      <th>Church Street</th>\n",
       "      <td>182</td>\n",
       "      <td>264</td>\n",
       "    </tr>\n",
       "    <tr>\n",
       "      <th>Domlur</th>\n",
       "      <td>193</td>\n",
       "      <td>158</td>\n",
       "    </tr>\n",
       "    <tr>\n",
       "      <th>Electronic City</th>\n",
       "      <td>662</td>\n",
       "      <td>560</td>\n",
       "    </tr>\n",
       "    <tr>\n",
       "      <th>Frazer Town</th>\n",
       "      <td>212</td>\n",
       "      <td>263</td>\n",
       "    </tr>\n",
       "    <tr>\n",
       "      <th>HSR</th>\n",
       "      <td>450</td>\n",
       "      <td>1319</td>\n",
       "    </tr>\n",
       "    <tr>\n",
       "      <th>Indiranagar</th>\n",
       "      <td>687</td>\n",
       "      <td>1102</td>\n",
       "    </tr>\n",
       "    <tr>\n",
       "      <th>JP Nagar</th>\n",
       "      <td>567</td>\n",
       "      <td>844</td>\n",
       "    </tr>\n",
       "    <tr>\n",
       "      <th>Jayanagar</th>\n",
       "      <td>386</td>\n",
       "      <td>862</td>\n",
       "    </tr>\n",
       "    <tr>\n",
       "      <th>Kalyan Nagar</th>\n",
       "      <td>244</td>\n",
       "      <td>350</td>\n",
       "    </tr>\n",
       "    <tr>\n",
       "      <th>Kammanahalli</th>\n",
       "      <td>179</td>\n",
       "      <td>244</td>\n",
       "    </tr>\n",
       "    <tr>\n",
       "      <th>Koramangala 1st Block</th>\n",
       "      <td>149</td>\n",
       "      <td>391</td>\n",
       "    </tr>\n",
       "    <tr>\n",
       "      <th>Koramangala 4th Block</th>\n",
       "      <td>279</td>\n",
       "      <td>308</td>\n",
       "    </tr>\n",
       "    <tr>\n",
       "      <th>Koramangala 5th Block</th>\n",
       "      <td>590</td>\n",
       "      <td>1025</td>\n",
       "    </tr>\n",
       "    <tr>\n",
       "      <th>Koramangala 6th Block</th>\n",
       "      <td>215</td>\n",
       "      <td>384</td>\n",
       "    </tr>\n",
       "    <tr>\n",
       "      <th>Koramangala 7th Block</th>\n",
       "      <td>192</td>\n",
       "      <td>434</td>\n",
       "    </tr>\n",
       "    <tr>\n",
       "      <th>Lavelle Road</th>\n",
       "      <td>241</td>\n",
       "      <td>159</td>\n",
       "    </tr>\n",
       "    <tr>\n",
       "      <th>MG Road</th>\n",
       "      <td>309</td>\n",
       "      <td>257</td>\n",
       "    </tr>\n",
       "    <tr>\n",
       "      <th>Malleshwaram</th>\n",
       "      <td>225</td>\n",
       "      <td>332</td>\n",
       "    </tr>\n",
       "    <tr>\n",
       "      <th>Marathahalli</th>\n",
       "      <td>658</td>\n",
       "      <td>1025</td>\n",
       "    </tr>\n",
       "    <tr>\n",
       "      <th>New BEL Road</th>\n",
       "      <td>252</td>\n",
       "      <td>334</td>\n",
       "    </tr>\n",
       "    <tr>\n",
       "      <th>Old Airport Road</th>\n",
       "      <td>207</td>\n",
       "      <td>200</td>\n",
       "    </tr>\n",
       "    <tr>\n",
       "      <th>Rajajinagar</th>\n",
       "      <td>214</td>\n",
       "      <td>248</td>\n",
       "    </tr>\n",
       "    <tr>\n",
       "      <th>Residency Road</th>\n",
       "      <td>277</td>\n",
       "      <td>147</td>\n",
       "    </tr>\n",
       "    <tr>\n",
       "      <th>Richmond Road</th>\n",
       "      <td>253</td>\n",
       "      <td>140</td>\n",
       "    </tr>\n",
       "    <tr>\n",
       "      <th>Sarjapur Road</th>\n",
       "      <td>292</td>\n",
       "      <td>655</td>\n",
       "    </tr>\n",
       "    <tr>\n",
       "      <th>Ulsoor</th>\n",
       "      <td>202</td>\n",
       "      <td>345</td>\n",
       "    </tr>\n",
       "    <tr>\n",
       "      <th>Whitefield</th>\n",
       "      <td>894</td>\n",
       "      <td>1078</td>\n",
       "    </tr>\n",
       "    <tr>\n",
       "      <th>others</th>\n",
       "      <td>2142</td>\n",
       "      <td>2743</td>\n",
       "    </tr>\n",
       "  </tbody>\n",
       "</table>\n",
       "</div>"
      ],
      "text/plain": [
       "online_order             No   Yes\n",
       "location                         \n",
       "BTM                     815  1699\n",
       "Banashankari            260   313\n",
       "Banaswadi               223   219\n",
       "Bannerghatta Road       407   653\n",
       "Basavanagudi            182   281\n",
       "Bellandur               443   691\n",
       "Brigade Road            293   394\n",
       "Brookefield             208   392\n",
       "Church Street           182   264\n",
       "Domlur                  193   158\n",
       "Electronic City         662   560\n",
       "Frazer Town             212   263\n",
       "HSR                     450  1319\n",
       "Indiranagar             687  1102\n",
       "JP Nagar                567   844\n",
       "Jayanagar               386   862\n",
       "Kalyan Nagar            244   350\n",
       "Kammanahalli            179   244\n",
       "Koramangala 1st Block   149   391\n",
       "Koramangala 4th Block   279   308\n",
       "Koramangala 5th Block   590  1025\n",
       "Koramangala 6th Block   215   384\n",
       "Koramangala 7th Block   192   434\n",
       "Lavelle Road            241   159\n",
       "MG Road                 309   257\n",
       "Malleshwaram            225   332\n",
       "Marathahalli            658  1025\n",
       "New BEL Road            252   334\n",
       "Old Airport Road        207   200\n",
       "Rajajinagar             214   248\n",
       "Residency Road          277   147\n",
       "Richmond Road           253   140\n",
       "Sarjapur Road           292   655\n",
       "Ulsoor                  202   345\n",
       "Whitefield              894  1078\n",
       "others                 2142  2743"
      ]
     },
     "execution_count": 34,
     "metadata": {},
     "output_type": "execute_result"
    }
   ],
   "source": [
    "online_order_by_location = df.groupby(['location', 'online_order']).size().unstack('online_order', fill_value=0)\n",
    "online_order_by_location"
   ]
  },
  {
   "cell_type": "code",
   "execution_count": 35,
   "id": "59eee408",
   "metadata": {
    "execution": {
     "iopub.execute_input": "2022-07-07T13:50:56.032078Z",
     "iopub.status.busy": "2022-07-07T13:50:56.031409Z",
     "iopub.status.idle": "2022-07-07T13:50:56.666838Z",
     "shell.execute_reply": "2022-07-07T13:50:56.665382Z"
    },
    "id": "lmA9dzaCyS_P",
    "outputId": "69e555d3-6333-41c4-e8cf-7e471b2c01e5",
    "papermill": {
     "duration": 0.662112,
     "end_time": "2022-07-07T13:50:56.669670",
     "exception": false,
     "start_time": "2022-07-07T13:50:56.007558",
     "status": "completed"
    },
    "tags": []
   },
   "outputs": [
    {
     "data": {
      "image/png": "[encoded data removed]",
      "text/plain": [
       "<Figure size 1080x576 with 1 Axes>"
      ]
     },
     "metadata": {
      "needs_background": "light"
     },
     "output_type": "display_data"
    }
   ],
   "source": [
    "online_order_by_location.plot(kind='bar', figsize=(15, 8))\n",
    "plt.show()"
   ]
  },
  {
   "cell_type": "markdown",
   "id": "439b7521",
   "metadata": {
    "id": "O7u3Bu910YiU",
    "papermill": {
     "duration": 0.025801,
     "end_time": "2022-07-07T13:50:56.719446",
     "exception": false,
     "start_time": "2022-07-07T13:50:56.693645",
     "status": "completed"
    },
    "tags": []
   },
   "source": [
    "Book Table availability by location"
   ]
  },
  {
   "cell_type": "code",
   "execution_count": 36,
   "id": "f2a34653",
   "metadata": {
    "execution": {
     "iopub.execute_input": "2022-07-07T13:50:56.766972Z",
     "iopub.status.busy": "2022-07-07T13:50:56.766174Z",
     "iopub.status.idle": "2022-07-07T13:50:56.790573Z",
     "shell.execute_reply": "2022-07-07T13:50:56.789142Z"
    },
    "id": "exzGNek3yTR6",
    "outputId": "576d2351-8463-4604-dfbf-c315325876fe",
    "papermill": {
     "duration": 0.050931,
     "end_time": "2022-07-07T13:50:56.793233",
     "exception": false,
     "start_time": "2022-07-07T13:50:56.742302",
     "status": "completed"
    },
    "tags": []
   },
   "outputs": [
    {
     "data": {
      "text/html": [
       "<div>\n",
       "<style scoped>\n",
       "    .dataframe tbody tr th:only-of-type {\n",
       "        vertical-align: middle;\n",
       "    }\n",
       "\n",
       "    .dataframe tbody tr th {\n",
       "        vertical-align: top;\n",
       "    }\n",
       "\n",
       "    .dataframe thead th {\n",
       "        text-align: right;\n",
       "    }\n",
       "</style>\n",
       "<table border=\"1\" class=\"dataframe\">\n",
       "  <thead>\n",
       "    <tr style=\"text-align: right;\">\n",
       "      <th>book_table</th>\n",
       "      <th>No</th>\n",
       "      <th>Yes</th>\n",
       "    </tr>\n",
       "    <tr>\n",
       "      <th>location</th>\n",
       "      <th></th>\n",
       "      <th></th>\n",
       "    </tr>\n",
       "  </thead>\n",
       "  <tbody>\n",
       "    <tr>\n",
       "      <th>BTM</th>\n",
       "      <td>2388</td>\n",
       "      <td>126</td>\n",
       "    </tr>\n",
       "    <tr>\n",
       "      <th>Banashankari</th>\n",
       "      <td>530</td>\n",
       "      <td>43</td>\n",
       "    </tr>\n",
       "    <tr>\n",
       "      <th>Banaswadi</th>\n",
       "      <td>436</td>\n",
       "      <td>6</td>\n",
       "    </tr>\n",
       "    <tr>\n",
       "      <th>Bannerghatta Road</th>\n",
       "      <td>981</td>\n",
       "      <td>79</td>\n",
       "    </tr>\n",
       "    <tr>\n",
       "      <th>Basavanagudi</th>\n",
       "      <td>451</td>\n",
       "      <td>12</td>\n",
       "    </tr>\n",
       "    <tr>\n",
       "      <th>Bellandur</th>\n",
       "      <td>1038</td>\n",
       "      <td>96</td>\n",
       "    </tr>\n",
       "    <tr>\n",
       "      <th>Brigade Road</th>\n",
       "      <td>541</td>\n",
       "      <td>146</td>\n",
       "    </tr>\n",
       "    <tr>\n",
       "      <th>Brookefield</th>\n",
       "      <td>527</td>\n",
       "      <td>73</td>\n",
       "    </tr>\n",
       "    <tr>\n",
       "      <th>Church Street</th>\n",
       "      <td>279</td>\n",
       "      <td>167</td>\n",
       "    </tr>\n",
       "    <tr>\n",
       "      <th>Domlur</th>\n",
       "      <td>306</td>\n",
       "      <td>45</td>\n",
       "    </tr>\n",
       "    <tr>\n",
       "      <th>Electronic City</th>\n",
       "      <td>1126</td>\n",
       "      <td>96</td>\n",
       "    </tr>\n",
       "    <tr>\n",
       "      <th>Frazer Town</th>\n",
       "      <td>467</td>\n",
       "      <td>8</td>\n",
       "    </tr>\n",
       "    <tr>\n",
       "      <th>HSR</th>\n",
       "      <td>1582</td>\n",
       "      <td>187</td>\n",
       "    </tr>\n",
       "    <tr>\n",
       "      <th>Indiranagar</th>\n",
       "      <td>1352</td>\n",
       "      <td>437</td>\n",
       "    </tr>\n",
       "    <tr>\n",
       "      <th>JP Nagar</th>\n",
       "      <td>1159</td>\n",
       "      <td>252</td>\n",
       "    </tr>\n",
       "    <tr>\n",
       "      <th>Jayanagar</th>\n",
       "      <td>1021</td>\n",
       "      <td>227</td>\n",
       "    </tr>\n",
       "    <tr>\n",
       "      <th>Kalyan Nagar</th>\n",
       "      <td>476</td>\n",
       "      <td>118</td>\n",
       "    </tr>\n",
       "    <tr>\n",
       "      <th>Kammanahalli</th>\n",
       "      <td>389</td>\n",
       "      <td>34</td>\n",
       "    </tr>\n",
       "    <tr>\n",
       "      <th>Koramangala 1st Block</th>\n",
       "      <td>498</td>\n",
       "      <td>42</td>\n",
       "    </tr>\n",
       "    <tr>\n",
       "      <th>Koramangala 4th Block</th>\n",
       "      <td>340</td>\n",
       "      <td>247</td>\n",
       "    </tr>\n",
       "    <tr>\n",
       "      <th>Koramangala 5th Block</th>\n",
       "      <td>1014</td>\n",
       "      <td>601</td>\n",
       "    </tr>\n",
       "    <tr>\n",
       "      <th>Koramangala 6th Block</th>\n",
       "      <td>518</td>\n",
       "      <td>81</td>\n",
       "    </tr>\n",
       "    <tr>\n",
       "      <th>Koramangala 7th Block</th>\n",
       "      <td>496</td>\n",
       "      <td>130</td>\n",
       "    </tr>\n",
       "    <tr>\n",
       "      <th>Lavelle Road</th>\n",
       "      <td>199</td>\n",
       "      <td>201</td>\n",
       "    </tr>\n",
       "    <tr>\n",
       "      <th>MG Road</th>\n",
       "      <td>298</td>\n",
       "      <td>268</td>\n",
       "    </tr>\n",
       "    <tr>\n",
       "      <th>Malleshwaram</th>\n",
       "      <td>476</td>\n",
       "      <td>81</td>\n",
       "    </tr>\n",
       "    <tr>\n",
       "      <th>Marathahalli</th>\n",
       "      <td>1526</td>\n",
       "      <td>157</td>\n",
       "    </tr>\n",
       "    <tr>\n",
       "      <th>New BEL Road</th>\n",
       "      <td>531</td>\n",
       "      <td>55</td>\n",
       "    </tr>\n",
       "    <tr>\n",
       "      <th>Old Airport Road</th>\n",
       "      <td>349</td>\n",
       "      <td>58</td>\n",
       "    </tr>\n",
       "    <tr>\n",
       "      <th>Rajajinagar</th>\n",
       "      <td>422</td>\n",
       "      <td>40</td>\n",
       "    </tr>\n",
       "    <tr>\n",
       "      <th>Residency Road</th>\n",
       "      <td>307</td>\n",
       "      <td>117</td>\n",
       "    </tr>\n",
       "    <tr>\n",
       "      <th>Richmond Road</th>\n",
       "      <td>312</td>\n",
       "      <td>81</td>\n",
       "    </tr>\n",
       "    <tr>\n",
       "      <th>Sarjapur Road</th>\n",
       "      <td>800</td>\n",
       "      <td>147</td>\n",
       "    </tr>\n",
       "    <tr>\n",
       "      <th>Ulsoor</th>\n",
       "      <td>434</td>\n",
       "      <td>113</td>\n",
       "    </tr>\n",
       "    <tr>\n",
       "      <th>Whitefield</th>\n",
       "      <td>1720</td>\n",
       "      <td>252</td>\n",
       "    </tr>\n",
       "    <tr>\n",
       "      <th>others</th>\n",
       "      <td>4306</td>\n",
       "      <td>579</td>\n",
       "    </tr>\n",
       "  </tbody>\n",
       "</table>\n",
       "</div>"
      ],
      "text/plain": [
       "book_table               No  Yes\n",
       "location                        \n",
       "BTM                    2388  126\n",
       "Banashankari            530   43\n",
       "Banaswadi               436    6\n",
       "Bannerghatta Road       981   79\n",
       "Basavanagudi            451   12\n",
       "Bellandur              1038   96\n",
       "Brigade Road            541  146\n",
       "Brookefield             527   73\n",
       "Church Street           279  167\n",
       "Domlur                  306   45\n",
       "Electronic City        1126   96\n",
       "Frazer Town             467    8\n",
       "HSR                    1582  187\n",
       "Indiranagar            1352  437\n",
       "JP Nagar               1159  252\n",
       "Jayanagar              1021  227\n",
       "Kalyan Nagar            476  118\n",
       "Kammanahalli            389   34\n",
       "Koramangala 1st Block   498   42\n",
       "Koramangala 4th Block   340  247\n",
       "Koramangala 5th Block  1014  601\n",
       "Koramangala 6th Block   518   81\n",
       "Koramangala 7th Block   496  130\n",
       "Lavelle Road            199  201\n",
       "MG Road                 298  268\n",
       "Malleshwaram            476   81\n",
       "Marathahalli           1526  157\n",
       "New BEL Road            531   55\n",
       "Old Airport Road        349   58\n",
       "Rajajinagar             422   40\n",
       "Residency Road          307  117\n",
       "Richmond Road           312   81\n",
       "Sarjapur Road           800  147\n",
       "Ulsoor                  434  113\n",
       "Whitefield             1720  252\n",
       "others                 4306  579"
      ]
     },
     "execution_count": 36,
     "metadata": {},
     "output_type": "execute_result"
    }
   ],
   "source": [
    "book_table_by_location = df.groupby(['location', 'book_table']).size().unstack('book_table', fill_value=0)\n",
    "book_table_by_location"
   ]
  },
  {
   "cell_type": "code",
   "execution_count": 37,
   "id": "057d719b",
   "metadata": {
    "execution": {
     "iopub.execute_input": "2022-07-07T13:50:56.842269Z",
     "iopub.status.busy": "2022-07-07T13:50:56.841402Z",
     "iopub.status.idle": "2022-07-07T13:50:57.512397Z",
     "shell.execute_reply": "2022-07-07T13:50:57.511336Z"
    },
    "id": "eSs6HAJrySiL",
    "outputId": "13885e82-2fd6-4897-c1bc-4cb3a1ce212f",
    "papermill": {
     "duration": 0.698352,
     "end_time": "2022-07-07T13:50:57.514905",
     "exception": false,
     "start_time": "2022-07-07T13:50:56.816553",
     "status": "completed"
    },
    "tags": []
   },
   "outputs": [
    {
     "data": {
      "image/png": "[encoded data removed]",
      "text/plain": [
       "<Figure size 1080x576 with 1 Axes>"
      ]
     },
     "metadata": {
      "needs_background": "light"
     },
     "output_type": "display_data"
    }
   ],
   "source": [
    "book_table_by_location.plot(kind='bar', figsize=(15, 8))\n",
    "plt.show()"
   ]
  },
  {
   "cell_type": "markdown",
   "id": "48abbea9",
   "metadata": {
    "id": "Eb3ai4Eu1Hq-",
    "papermill": {
     "duration": 0.023428,
     "end_time": "2022-07-07T13:50:57.562187",
     "exception": false,
     "start_time": "2022-07-07T13:50:57.538759",
     "status": "completed"
    },
    "tags": []
   },
   "source": [
    "Restaurant type by rate"
   ]
  },
  {
   "cell_type": "code",
   "execution_count": 38,
   "id": "e741a17a",
   "metadata": {
    "execution": {
     "iopub.execute_input": "2022-07-07T13:50:57.612764Z",
     "iopub.status.busy": "2022-07-07T13:50:57.611919Z",
     "iopub.status.idle": "2022-07-07T13:50:57.976194Z",
     "shell.execute_reply": "2022-07-07T13:50:57.974869Z"
    },
    "id": "wLbA_CDv09QO",
    "outputId": "faa7532e-2f5e-4c2b-ebd5-dc92db2f1e23",
    "papermill": {
     "duration": 0.39396,
     "end_time": "2022-07-07T13:50:57.980080",
     "exception": false,
     "start_time": "2022-07-07T13:50:57.586120",
     "status": "completed"
    },
    "tags": []
   },
   "outputs": [
    {
     "data": {
      "image/png": "[encoded data removed]",
      "text/plain": [
       "<Figure size 1080x576 with 1 Axes>"
      ]
     },
     "metadata": {
      "needs_background": "light"
     },
     "output_type": "display_data"
    }
   ],
   "source": [
    "plt.figure(figsize=(15, 8))\n",
    "sns.boxplot(x='Type', y='rate', data=df, showmeans=True)\n",
    "plt.show()"
   ]
  },
  {
   "cell_type": "markdown",
   "id": "57b87271",
   "metadata": {
    "id": "9sgXHCFz2F-o",
    "papermill": {
     "duration": 0.023319,
     "end_time": "2022-07-07T13:50:58.028499",
     "exception": false,
     "start_time": "2022-07-07T13:50:58.005180",
     "status": "completed"
    },
    "tags": []
   },
   "source": [
    "Restaurant types by location"
   ]
  },
  {
   "cell_type": "code",
   "execution_count": 39,
   "id": "fad3c34d",
   "metadata": {
    "execution": {
     "iopub.execute_input": "2022-07-07T13:50:58.077167Z",
     "iopub.status.busy": "2022-07-07T13:50:58.076726Z",
     "iopub.status.idle": "2022-07-07T13:50:58.104840Z",
     "shell.execute_reply": "2022-07-07T13:50:58.103883Z"
    },
    "id": "Ka8utFWC09er",
    "outputId": "8de22d4e-b667-4eb5-874c-29209cc57a02",
    "papermill": {
     "duration": 0.055011,
     "end_time": "2022-07-07T13:50:58.107024",
     "exception": false,
     "start_time": "2022-07-07T13:50:58.052013",
     "status": "completed"
    },
    "tags": []
   },
   "outputs": [
    {
     "data": {
      "text/html": [
       "<div>\n",
       "<style scoped>\n",
       "    .dataframe tbody tr th:only-of-type {\n",
       "        vertical-align: middle;\n",
       "    }\n",
       "\n",
       "    .dataframe tbody tr th {\n",
       "        vertical-align: top;\n",
       "    }\n",
       "\n",
       "    .dataframe thead th {\n",
       "        text-align: right;\n",
       "    }\n",
       "</style>\n",
       "<table border=\"1\" class=\"dataframe\">\n",
       "  <thead>\n",
       "    <tr style=\"text-align: right;\">\n",
       "      <th>Type</th>\n",
       "      <th>Buffet</th>\n",
       "      <th>Cafes</th>\n",
       "      <th>Delivery</th>\n",
       "      <th>Desserts</th>\n",
       "      <th>Dine-out</th>\n",
       "      <th>Drinks &amp; nightlife</th>\n",
       "      <th>Pubs and bars</th>\n",
       "    </tr>\n",
       "    <tr>\n",
       "      <th>location</th>\n",
       "      <th></th>\n",
       "      <th></th>\n",
       "      <th></th>\n",
       "      <th></th>\n",
       "      <th></th>\n",
       "      <th></th>\n",
       "      <th></th>\n",
       "    </tr>\n",
       "  </thead>\n",
       "  <tbody>\n",
       "    <tr>\n",
       "      <th>BTM</th>\n",
       "      <td>17</td>\n",
       "      <td>46</td>\n",
       "      <td>1434</td>\n",
       "      <td>112</td>\n",
       "      <td>876</td>\n",
       "      <td>15</td>\n",
       "      <td>14</td>\n",
       "    </tr>\n",
       "    <tr>\n",
       "      <th>Banashankari</th>\n",
       "      <td>5</td>\n",
       "      <td>24</td>\n",
       "      <td>244</td>\n",
       "      <td>46</td>\n",
       "      <td>247</td>\n",
       "      <td>7</td>\n",
       "      <td>0</td>\n",
       "    </tr>\n",
       "    <tr>\n",
       "      <th>Banaswadi</th>\n",
       "      <td>0</td>\n",
       "      <td>13</td>\n",
       "      <td>164</td>\n",
       "      <td>19</td>\n",
       "      <td>241</td>\n",
       "      <td>4</td>\n",
       "      <td>1</td>\n",
       "    </tr>\n",
       "    <tr>\n",
       "      <th>Bannerghatta Road</th>\n",
       "      <td>8</td>\n",
       "      <td>27</td>\n",
       "      <td>515</td>\n",
       "      <td>92</td>\n",
       "      <td>407</td>\n",
       "      <td>9</td>\n",
       "      <td>2</td>\n",
       "    </tr>\n",
       "    <tr>\n",
       "      <th>Basavanagudi</th>\n",
       "      <td>4</td>\n",
       "      <td>8</td>\n",
       "      <td>195</td>\n",
       "      <td>45</td>\n",
       "      <td>208</td>\n",
       "      <td>3</td>\n",
       "      <td>0</td>\n",
       "    </tr>\n",
       "    <tr>\n",
       "      <th>Bellandur</th>\n",
       "      <td>28</td>\n",
       "      <td>34</td>\n",
       "      <td>519</td>\n",
       "      <td>72</td>\n",
       "      <td>448</td>\n",
       "      <td>17</td>\n",
       "      <td>16</td>\n",
       "    </tr>\n",
       "    <tr>\n",
       "      <th>Brigade Road</th>\n",
       "      <td>13</td>\n",
       "      <td>24</td>\n",
       "      <td>249</td>\n",
       "      <td>55</td>\n",
       "      <td>273</td>\n",
       "      <td>51</td>\n",
       "      <td>22</td>\n",
       "    </tr>\n",
       "    <tr>\n",
       "      <th>Brookefield</th>\n",
       "      <td>6</td>\n",
       "      <td>17</td>\n",
       "      <td>300</td>\n",
       "      <td>42</td>\n",
       "      <td>231</td>\n",
       "      <td>4</td>\n",
       "      <td>0</td>\n",
       "    </tr>\n",
       "    <tr>\n",
       "      <th>Church Street</th>\n",
       "      <td>19</td>\n",
       "      <td>44</td>\n",
       "      <td>138</td>\n",
       "      <td>21</td>\n",
       "      <td>172</td>\n",
       "      <td>31</td>\n",
       "      <td>21</td>\n",
       "    </tr>\n",
       "    <tr>\n",
       "      <th>Domlur</th>\n",
       "      <td>11</td>\n",
       "      <td>13</td>\n",
       "      <td>168</td>\n",
       "      <td>24</td>\n",
       "      <td>112</td>\n",
       "      <td>11</td>\n",
       "      <td>12</td>\n",
       "    </tr>\n",
       "    <tr>\n",
       "      <th>Electronic City</th>\n",
       "      <td>22</td>\n",
       "      <td>24</td>\n",
       "      <td>553</td>\n",
       "      <td>71</td>\n",
       "      <td>510</td>\n",
       "      <td>21</td>\n",
       "      <td>21</td>\n",
       "    </tr>\n",
       "    <tr>\n",
       "      <th>Frazer Town</th>\n",
       "      <td>1</td>\n",
       "      <td>10</td>\n",
       "      <td>271</td>\n",
       "      <td>46</td>\n",
       "      <td>143</td>\n",
       "      <td>2</td>\n",
       "      <td>2</td>\n",
       "    </tr>\n",
       "    <tr>\n",
       "      <th>HSR</th>\n",
       "      <td>14</td>\n",
       "      <td>42</td>\n",
       "      <td>1086</td>\n",
       "      <td>110</td>\n",
       "      <td>488</td>\n",
       "      <td>14</td>\n",
       "      <td>15</td>\n",
       "    </tr>\n",
       "    <tr>\n",
       "      <th>Indiranagar</th>\n",
       "      <td>38</td>\n",
       "      <td>100</td>\n",
       "      <td>848</td>\n",
       "      <td>142</td>\n",
       "      <td>526</td>\n",
       "      <td>67</td>\n",
       "      <td>68</td>\n",
       "    </tr>\n",
       "    <tr>\n",
       "      <th>JP Nagar</th>\n",
       "      <td>25</td>\n",
       "      <td>41</td>\n",
       "      <td>633</td>\n",
       "      <td>104</td>\n",
       "      <td>561</td>\n",
       "      <td>40</td>\n",
       "      <td>7</td>\n",
       "    </tr>\n",
       "    <tr>\n",
       "      <th>Jayanagar</th>\n",
       "      <td>19</td>\n",
       "      <td>50</td>\n",
       "      <td>562</td>\n",
       "      <td>118</td>\n",
       "      <td>487</td>\n",
       "      <td>12</td>\n",
       "      <td>0</td>\n",
       "    </tr>\n",
       "    <tr>\n",
       "      <th>Kalyan Nagar</th>\n",
       "      <td>9</td>\n",
       "      <td>24</td>\n",
       "      <td>190</td>\n",
       "      <td>45</td>\n",
       "      <td>311</td>\n",
       "      <td>15</td>\n",
       "      <td>0</td>\n",
       "    </tr>\n",
       "    <tr>\n",
       "      <th>Kammanahalli</th>\n",
       "      <td>2</td>\n",
       "      <td>14</td>\n",
       "      <td>161</td>\n",
       "      <td>18</td>\n",
       "      <td>225</td>\n",
       "      <td>3</td>\n",
       "      <td>0</td>\n",
       "    </tr>\n",
       "    <tr>\n",
       "      <th>Koramangala 1st Block</th>\n",
       "      <td>3</td>\n",
       "      <td>14</td>\n",
       "      <td>320</td>\n",
       "      <td>32</td>\n",
       "      <td>156</td>\n",
       "      <td>5</td>\n",
       "      <td>10</td>\n",
       "    </tr>\n",
       "    <tr>\n",
       "      <th>Koramangala 4th Block</th>\n",
       "      <td>13</td>\n",
       "      <td>43</td>\n",
       "      <td>249</td>\n",
       "      <td>38</td>\n",
       "      <td>163</td>\n",
       "      <td>50</td>\n",
       "      <td>31</td>\n",
       "    </tr>\n",
       "    <tr>\n",
       "      <th>Koramangala 5th Block</th>\n",
       "      <td>51</td>\n",
       "      <td>120</td>\n",
       "      <td>629</td>\n",
       "      <td>136</td>\n",
       "      <td>546</td>\n",
       "      <td>75</td>\n",
       "      <td>58</td>\n",
       "    </tr>\n",
       "    <tr>\n",
       "      <th>Koramangala 6th Block</th>\n",
       "      <td>12</td>\n",
       "      <td>30</td>\n",
       "      <td>283</td>\n",
       "      <td>48</td>\n",
       "      <td>183</td>\n",
       "      <td>25</td>\n",
       "      <td>18</td>\n",
       "    </tr>\n",
       "    <tr>\n",
       "      <th>Koramangala 7th Block</th>\n",
       "      <td>19</td>\n",
       "      <td>30</td>\n",
       "      <td>249</td>\n",
       "      <td>69</td>\n",
       "      <td>215</td>\n",
       "      <td>22</td>\n",
       "      <td>22</td>\n",
       "    </tr>\n",
       "    <tr>\n",
       "      <th>Lavelle Road</th>\n",
       "      <td>24</td>\n",
       "      <td>22</td>\n",
       "      <td>88</td>\n",
       "      <td>28</td>\n",
       "      <td>159</td>\n",
       "      <td>51</td>\n",
       "      <td>28</td>\n",
       "    </tr>\n",
       "    <tr>\n",
       "      <th>MG Road</th>\n",
       "      <td>32</td>\n",
       "      <td>56</td>\n",
       "      <td>140</td>\n",
       "      <td>39</td>\n",
       "      <td>224</td>\n",
       "      <td>46</td>\n",
       "      <td>29</td>\n",
       "    </tr>\n",
       "    <tr>\n",
       "      <th>Malleshwaram</th>\n",
       "      <td>11</td>\n",
       "      <td>24</td>\n",
       "      <td>197</td>\n",
       "      <td>63</td>\n",
       "      <td>232</td>\n",
       "      <td>18</td>\n",
       "      <td>12</td>\n",
       "    </tr>\n",
       "    <tr>\n",
       "      <th>Marathahalli</th>\n",
       "      <td>36</td>\n",
       "      <td>30</td>\n",
       "      <td>888</td>\n",
       "      <td>96</td>\n",
       "      <td>606</td>\n",
       "      <td>23</td>\n",
       "      <td>4</td>\n",
       "    </tr>\n",
       "    <tr>\n",
       "      <th>New BEL Road</th>\n",
       "      <td>4</td>\n",
       "      <td>29</td>\n",
       "      <td>279</td>\n",
       "      <td>34</td>\n",
       "      <td>224</td>\n",
       "      <td>8</td>\n",
       "      <td>8</td>\n",
       "    </tr>\n",
       "    <tr>\n",
       "      <th>Old Airport Road</th>\n",
       "      <td>12</td>\n",
       "      <td>5</td>\n",
       "      <td>176</td>\n",
       "      <td>35</td>\n",
       "      <td>158</td>\n",
       "      <td>12</td>\n",
       "      <td>9</td>\n",
       "    </tr>\n",
       "    <tr>\n",
       "      <th>Rajajinagar</th>\n",
       "      <td>9</td>\n",
       "      <td>4</td>\n",
       "      <td>196</td>\n",
       "      <td>44</td>\n",
       "      <td>196</td>\n",
       "      <td>3</td>\n",
       "      <td>10</td>\n",
       "    </tr>\n",
       "    <tr>\n",
       "      <th>Residency Road</th>\n",
       "      <td>14</td>\n",
       "      <td>19</td>\n",
       "      <td>106</td>\n",
       "      <td>38</td>\n",
       "      <td>187</td>\n",
       "      <td>41</td>\n",
       "      <td>19</td>\n",
       "    </tr>\n",
       "    <tr>\n",
       "      <th>Richmond Road</th>\n",
       "      <td>41</td>\n",
       "      <td>15</td>\n",
       "      <td>110</td>\n",
       "      <td>37</td>\n",
       "      <td>174</td>\n",
       "      <td>7</td>\n",
       "      <td>9</td>\n",
       "    </tr>\n",
       "    <tr>\n",
       "      <th>Sarjapur Road</th>\n",
       "      <td>23</td>\n",
       "      <td>20</td>\n",
       "      <td>479</td>\n",
       "      <td>79</td>\n",
       "      <td>305</td>\n",
       "      <td>19</td>\n",
       "      <td>22</td>\n",
       "    </tr>\n",
       "    <tr>\n",
       "      <th>Ulsoor</th>\n",
       "      <td>12</td>\n",
       "      <td>32</td>\n",
       "      <td>218</td>\n",
       "      <td>38</td>\n",
       "      <td>216</td>\n",
       "      <td>16</td>\n",
       "      <td>15</td>\n",
       "    </tr>\n",
       "    <tr>\n",
       "      <th>Whitefield</th>\n",
       "      <td>28</td>\n",
       "      <td>50</td>\n",
       "      <td>951</td>\n",
       "      <td>130</td>\n",
       "      <td>734</td>\n",
       "      <td>46</td>\n",
       "      <td>33</td>\n",
       "    </tr>\n",
       "    <tr>\n",
       "      <th>others</th>\n",
       "      <td>88</td>\n",
       "      <td>150</td>\n",
       "      <td>2374</td>\n",
       "      <td>310</td>\n",
       "      <td>1780</td>\n",
       "      <td>116</td>\n",
       "      <td>67</td>\n",
       "    </tr>\n",
       "  </tbody>\n",
       "</table>\n",
       "</div>"
      ],
      "text/plain": [
       "Type                   Buffet  Cafes  Delivery  Desserts  Dine-out  \\\n",
       "location                                                             \n",
       "BTM                        17     46      1434       112       876   \n",
       "Banashankari                5     24       244        46       247   \n",
       "Banaswadi                   0     13       164        19       241   \n",
       "Bannerghatta Road           8     27       515        92       407   \n",
       "Basavanagudi                4      8       195        45       208   \n",
       "Bellandur                  28     34       519        72       448   \n",
       "Brigade Road               13     24       249        55       273   \n",
       "Brookefield                 6     17       300        42       231   \n",
       "Church Street              19     44       138        21       172   \n",
       "Domlur                     11     13       168        24       112   \n",
       "Electronic City            22     24       553        71       510   \n",
       "Frazer Town                 1     10       271        46       143   \n",
       "HSR                        14     42      1086       110       488   \n",
       "Indiranagar                38    100       848       142       526   \n",
       "JP Nagar                   25     41       633       104       561   \n",
       "Jayanagar                  19     50       562       118       487   \n",
       "Kalyan Nagar                9     24       190        45       311   \n",
       "Kammanahalli                2     14       161        18       225   \n",
       "Koramangala 1st Block       3     14       320        32       156   \n",
       "Koramangala 4th Block      13     43       249        38       163   \n",
       "Koramangala 5th Block      51    120       629       136       546   \n",
       "Koramangala 6th Block      12     30       283        48       183   \n",
       "Koramangala 7th Block      19     30       249        69       215   \n",
       "Lavelle Road               24     22        88        28       159   \n",
       "MG Road                    32     56       140        39       224   \n",
       "Malleshwaram               11     24       197        63       232   \n",
       "Marathahalli               36     30       888        96       606   \n",
       "New BEL Road                4     29       279        34       224   \n",
       "Old Airport Road           12      5       176        35       158   \n",
       "Rajajinagar                 9      4       196        44       196   \n",
       "Residency Road             14     19       106        38       187   \n",
       "Richmond Road              41     15       110        37       174   \n",
       "Sarjapur Road              23     20       479        79       305   \n",
       "Ulsoor                     12     32       218        38       216   \n",
       "Whitefield                 28     50       951       130       734   \n",
       "others                     88    150      2374       310      1780   \n",
       "\n",
       "Type                   Drinks & nightlife  Pubs and bars  \n",
       "location                                                  \n",
       "BTM                                    15             14  \n",
       "Banashankari                            7              0  \n",
       "Banaswadi                               4              1  \n",
       "Bannerghatta Road                       9              2  \n",
       "Basavanagudi                            3              0  \n",
       "Bellandur                              17             16  \n",
       "Brigade Road                           51             22  \n",
       "Brookefield                             4              0  \n",
       "Church Street                          31             21  \n",
       "Domlur                                 11             12  \n",
       "Electronic City                        21             21  \n",
       "Frazer Town                             2              2  \n",
       "HSR                                    14             15  \n",
       "Indiranagar                            67             68  \n",
       "JP Nagar                               40              7  \n",
       "Jayanagar                              12              0  \n",
       "Kalyan Nagar                           15              0  \n",
       "Kammanahalli                            3              0  \n",
       "Koramangala 1st Block                   5             10  \n",
       "Koramangala 4th Block                  50             31  \n",
       "Koramangala 5th Block                  75             58  \n",
       "Koramangala 6th Block                  25             18  \n",
       "Koramangala 7th Block                  22             22  \n",
       "Lavelle Road                           51             28  \n",
       "MG Road                                46             29  \n",
       "Malleshwaram                           18             12  \n",
       "Marathahalli                           23              4  \n",
       "New BEL Road                            8              8  \n",
       "Old Airport Road                       12              9  \n",
       "Rajajinagar                             3             10  \n",
       "Residency Road                         41             19  \n",
       "Richmond Road                           7              9  \n",
       "Sarjapur Road                          19             22  \n",
       "Ulsoor                                 16             15  \n",
       "Whitefield                             46             33  \n",
       "others                                116             67  "
      ]
     },
     "execution_count": 39,
     "metadata": {},
     "output_type": "execute_result"
    }
   ],
   "source": [
    "type_by_location = df.groupby(['location', 'Type']).size().unstack('Type', fill_value=0)\n",
    "type_by_location"
   ]
  },
  {
   "cell_type": "code",
   "execution_count": 40,
   "id": "07a0d259",
   "metadata": {
    "execution": {
     "iopub.execute_input": "2022-07-07T13:50:58.158055Z",
     "iopub.status.busy": "2022-07-07T13:50:58.157558Z",
     "iopub.status.idle": "2022-07-07T13:50:59.619655Z",
     "shell.execute_reply": "2022-07-07T13:50:59.618358Z"
    },
    "id": "9fkcoRUW09r_",
    "outputId": "347471bc-1d8f-49b8-fdd9-0751859602f1",
    "papermill": {
     "duration": 1.490563,
     "end_time": "2022-07-07T13:50:59.622122",
     "exception": false,
     "start_time": "2022-07-07T13:50:58.131559",
     "status": "completed"
    },
    "tags": []
   },
   "outputs": [
    {
     "data": {
      "image/png": "[encoded data removed]",
      "text/plain": [
       "<Figure size 2160x1152 with 1 Axes>"
      ]
     },
     "metadata": {
      "needs_background": "light"
     },
     "output_type": "display_data"
    }
   ],
   "source": [
    "type_by_location.plot(kind='bar', figsize=(30, 16))\n",
    "plt.show()"
   ]
  }
 ],
 "metadata": {
  "kernelspec": {
   "display_name": "Python 3",
   "language": "python",
   "name": "python3"
  },
  "language_info": {
   "codemirror_mode": {
    "name": "ipython",
    "version": 3
   },
   "file_extension": ".py",
   "mimetype": "text/x-python",
   "name": "python",
   "nbconvert_exporter": "python",
   "pygments_lexer": "ipython3",
   "version": "3.7.12"
  },
  "papermill": {
   "default_parameters": {},
   "duration": 32.75551,
   "end_time": "2022-07-07T13:51:00.470361",
   "environment_variables": {},
   "exception": null,
   "input_path": "__notebook__.ipynb",
   "output_path": "__notebook__.ipynb",
   "parameters": {},
   "start_time": "2022-07-07T13:50:27.714851",
   "version": "2.3.4"
  }
 },
 "nbformat": 4,
 "nbformat_minor": 5
}
